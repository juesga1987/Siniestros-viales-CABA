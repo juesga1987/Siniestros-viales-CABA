{
 "cells": [
  {
   "cell_type": "markdown",
   "metadata": {},
   "source": [
    "# ETL"
   ]
  },
  {
   "cell_type": "markdown",
   "metadata": {},
   "source": [
    "Importamos las librerías"
   ]
  },
  {
   "cell_type": "code",
   "execution_count": 1,
   "metadata": {},
   "outputs": [],
   "source": [
    "import pandas as pd\n",
    "import seaborn as sns\n",
    "import matplotlib.pyplot as plt\n",
    "import warnings\n",
    "warnings.filterwarnings('ignore')\n"
   ]
  },
  {
   "cell_type": "markdown",
   "metadata": {},
   "source": [
    "Anteriormente hemos creado una copia de las hojas a utilizar del archivo de Excel homicidios, por ello tenemos separado hechos de víctimas. Ahora vamos a leer el archivo con Pandas"
   ]
  },
  {
   "cell_type": "code",
   "execution_count": 2,
   "metadata": {},
   "outputs": [],
   "source": [
    "homicidios = pd.ExcelFile('homicidios.xlsx')\n"
   ]
  },
  {
   "cell_type": "markdown",
   "metadata": {},
   "source": [
    "Creamos los Dataframes"
   ]
  },
  {
   "cell_type": "code",
   "execution_count": 3,
   "metadata": {},
   "outputs": [],
   "source": [
    "hechos = homicidios.parse('HECHOS')\n",
    "victimas = homicidios.parse('VICTIMAS')"
   ]
  },
  {
   "cell_type": "markdown",
   "metadata": {},
   "source": [
    "## HECHOS"
   ]
  },
  {
   "cell_type": "markdown",
   "metadata": {},
   "source": [
    "Leemos la información relevante"
   ]
  },
  {
   "cell_type": "code",
   "execution_count": 4,
   "metadata": {},
   "outputs": [
    {
     "name": "stdout",
     "output_type": "stream",
     "text": [
      "<class 'pandas.core.frame.DataFrame'>\n",
      "RangeIndex: 696 entries, 0 to 695\n",
      "Data columns (total 21 columns):\n",
      " #   Column                 Non-Null Count  Dtype         \n",
      "---  ------                 --------------  -----         \n",
      " 0   ID                     696 non-null    object        \n",
      " 1   N_VICTIMAS             696 non-null    int64         \n",
      " 2   FECHA                  696 non-null    datetime64[ns]\n",
      " 3   AAAA                   696 non-null    int64         \n",
      " 4   MM                     696 non-null    int64         \n",
      " 5   DD                     696 non-null    int64         \n",
      " 6   HORA                   696 non-null    object        \n",
      " 7   HH                     696 non-null    object        \n",
      " 8   LUGAR_DEL_HECHO        696 non-null    object        \n",
      " 9   TIPO_DE_CALLE          696 non-null    object        \n",
      " 10  Calle                  695 non-null    object        \n",
      " 11  Altura                 129 non-null    float64       \n",
      " 12  Cruce                  525 non-null    object        \n",
      " 13  Dirección Normalizada  688 non-null    object        \n",
      " 14  COMUNA                 696 non-null    int64         \n",
      " 15  XY (CABA)              696 non-null    object        \n",
      " 16  pos x                  696 non-null    object        \n",
      " 17  pos y                  696 non-null    object        \n",
      " 18  PARTICIPANTES          696 non-null    object        \n",
      " 19  VICTIMA                696 non-null    object        \n",
      " 20  ACUSADO                696 non-null    object        \n",
      "dtypes: datetime64[ns](1), float64(1), int64(5), object(14)\n",
      "memory usage: 114.3+ KB\n"
     ]
    }
   ],
   "source": [
    "hechos.info()"
   ]
  },
  {
   "cell_type": "markdown",
   "metadata": {},
   "source": [
    "Analizamos la información por columnas"
   ]
  },
  {
   "cell_type": "code",
   "execution_count": 5,
   "metadata": {},
   "outputs": [
    {
     "data": {
      "text/html": [
       "<div>\n",
       "<style scoped>\n",
       "    .dataframe tbody tr th:only-of-type {\n",
       "        vertical-align: middle;\n",
       "    }\n",
       "\n",
       "    .dataframe tbody tr th {\n",
       "        vertical-align: top;\n",
       "    }\n",
       "\n",
       "    .dataframe thead th {\n",
       "        text-align: right;\n",
       "    }\n",
       "</style>\n",
       "<table border=\"1\" class=\"dataframe\">\n",
       "  <thead>\n",
       "    <tr style=\"text-align: right;\">\n",
       "      <th></th>\n",
       "      <th>ID</th>\n",
       "      <th>N_VICTIMAS</th>\n",
       "      <th>FECHA</th>\n",
       "      <th>AAAA</th>\n",
       "      <th>MM</th>\n",
       "      <th>DD</th>\n",
       "      <th>HORA</th>\n",
       "      <th>HH</th>\n",
       "      <th>LUGAR_DEL_HECHO</th>\n",
       "      <th>TIPO_DE_CALLE</th>\n",
       "      <th>...</th>\n",
       "      <th>Altura</th>\n",
       "      <th>Cruce</th>\n",
       "      <th>Dirección Normalizada</th>\n",
       "      <th>COMUNA</th>\n",
       "      <th>XY (CABA)</th>\n",
       "      <th>pos x</th>\n",
       "      <th>pos y</th>\n",
       "      <th>PARTICIPANTES</th>\n",
       "      <th>VICTIMA</th>\n",
       "      <th>ACUSADO</th>\n",
       "    </tr>\n",
       "  </thead>\n",
       "  <tbody>\n",
       "    <tr>\n",
       "      <th>0</th>\n",
       "      <td>2016-0001</td>\n",
       "      <td>1</td>\n",
       "      <td>2016-01-01</td>\n",
       "      <td>2016</td>\n",
       "      <td>1</td>\n",
       "      <td>1</td>\n",
       "      <td>04:00:00</td>\n",
       "      <td>4</td>\n",
       "      <td>AV PIEDRA BUENA Y AV FERNANDEZ DE LA CRUZ</td>\n",
       "      <td>AVENIDA</td>\n",
       "      <td>...</td>\n",
       "      <td>NaN</td>\n",
       "      <td>FERNANDEZ DE LA CRUZ, F., GRAL. AV.</td>\n",
       "      <td>PIEDRA BUENA AV. y FERNANDEZ DE LA CRUZ, F., G...</td>\n",
       "      <td>8</td>\n",
       "      <td>Point (98896.78238426 93532.43437792)</td>\n",
       "      <td>-58.47533969</td>\n",
       "      <td>-34.68757022</td>\n",
       "      <td>MOTO-AUTO</td>\n",
       "      <td>MOTO</td>\n",
       "      <td>AUTO</td>\n",
       "    </tr>\n",
       "    <tr>\n",
       "      <th>1</th>\n",
       "      <td>2016-0002</td>\n",
       "      <td>1</td>\n",
       "      <td>2016-01-02</td>\n",
       "      <td>2016</td>\n",
       "      <td>1</td>\n",
       "      <td>2</td>\n",
       "      <td>01:15:00</td>\n",
       "      <td>1</td>\n",
       "      <td>AV GRAL PAZ  Y AV DE LOS CORRALES</td>\n",
       "      <td>GRAL PAZ</td>\n",
       "      <td>...</td>\n",
       "      <td>NaN</td>\n",
       "      <td>DE LOS CORRALES AV.</td>\n",
       "      <td>PAZ, GRAL. AV. y DE LOS CORRALES AV.</td>\n",
       "      <td>9</td>\n",
       "      <td>Point (95832.05571093 95505.41641999)</td>\n",
       "      <td>-58.50877521</td>\n",
       "      <td>-34.66977709</td>\n",
       "      <td>AUTO-PASAJEROS</td>\n",
       "      <td>AUTO</td>\n",
       "      <td>PASAJEROS</td>\n",
       "    </tr>\n",
       "    <tr>\n",
       "      <th>2</th>\n",
       "      <td>2016-0003</td>\n",
       "      <td>1</td>\n",
       "      <td>2016-01-03</td>\n",
       "      <td>2016</td>\n",
       "      <td>1</td>\n",
       "      <td>3</td>\n",
       "      <td>07:00:00</td>\n",
       "      <td>7</td>\n",
       "      <td>AV ENTRE RIOS 2034</td>\n",
       "      <td>AVENIDA</td>\n",
       "      <td>...</td>\n",
       "      <td>2034.0</td>\n",
       "      <td>NaN</td>\n",
       "      <td>ENTRE RIOS AV. 2034</td>\n",
       "      <td>1</td>\n",
       "      <td>Point (106684.29090040 99706.57687843)</td>\n",
       "      <td>-58.39040293</td>\n",
       "      <td>-34.63189362</td>\n",
       "      <td>MOTO-AUTO</td>\n",
       "      <td>MOTO</td>\n",
       "      <td>AUTO</td>\n",
       "    </tr>\n",
       "    <tr>\n",
       "      <th>3</th>\n",
       "      <td>2016-0004</td>\n",
       "      <td>1</td>\n",
       "      <td>2016-01-10</td>\n",
       "      <td>2016</td>\n",
       "      <td>1</td>\n",
       "      <td>10</td>\n",
       "      <td>00:00:00</td>\n",
       "      <td>0</td>\n",
       "      <td>AV LARRAZABAL Y GRAL VILLEGAS CONRADO</td>\n",
       "      <td>AVENIDA</td>\n",
       "      <td>...</td>\n",
       "      <td>NaN</td>\n",
       "      <td>VILLEGAS, CONRADO, GRAL.</td>\n",
       "      <td>LARRAZABAL AV. y VILLEGAS, CONRADO, GRAL.</td>\n",
       "      <td>8</td>\n",
       "      <td>Point (99840.65224780 94269.16534422)</td>\n",
       "      <td>-58.46503904</td>\n",
       "      <td>-34.68092974</td>\n",
       "      <td>MOTO-SD</td>\n",
       "      <td>MOTO</td>\n",
       "      <td>SD</td>\n",
       "    </tr>\n",
       "    <tr>\n",
       "      <th>4</th>\n",
       "      <td>2016-0005</td>\n",
       "      <td>1</td>\n",
       "      <td>2016-01-21</td>\n",
       "      <td>2016</td>\n",
       "      <td>1</td>\n",
       "      <td>21</td>\n",
       "      <td>05:20:00</td>\n",
       "      <td>5</td>\n",
       "      <td>AV SAN JUAN Y PRESIDENTE LUIS SAENZ PEÑA</td>\n",
       "      <td>AVENIDA</td>\n",
       "      <td>...</td>\n",
       "      <td>NaN</td>\n",
       "      <td>SAENZ PE?A, LUIS, PRES.</td>\n",
       "      <td>SAN JUAN AV. y SAENZ PEÃ‘A, LUIS, PRES.</td>\n",
       "      <td>1</td>\n",
       "      <td>Point (106980.32827929 100752.16915795)</td>\n",
       "      <td>-58.38718297</td>\n",
       "      <td>-34.62246630</td>\n",
       "      <td>MOTO-PASAJEROS</td>\n",
       "      <td>MOTO</td>\n",
       "      <td>PASAJEROS</td>\n",
       "    </tr>\n",
       "  </tbody>\n",
       "</table>\n",
       "<p>5 rows × 21 columns</p>\n",
       "</div>"
      ],
      "text/plain": [
       "          ID  N_VICTIMAS      FECHA  AAAA  MM  DD      HORA HH  \\\n",
       "0  2016-0001           1 2016-01-01  2016   1   1  04:00:00  4   \n",
       "1  2016-0002           1 2016-01-02  2016   1   2  01:15:00  1   \n",
       "2  2016-0003           1 2016-01-03  2016   1   3  07:00:00  7   \n",
       "3  2016-0004           1 2016-01-10  2016   1  10  00:00:00  0   \n",
       "4  2016-0005           1 2016-01-21  2016   1  21  05:20:00  5   \n",
       "\n",
       "                             LUGAR_DEL_HECHO TIPO_DE_CALLE  ...  Altura  \\\n",
       "0  AV PIEDRA BUENA Y AV FERNANDEZ DE LA CRUZ       AVENIDA  ...     NaN   \n",
       "1          AV GRAL PAZ  Y AV DE LOS CORRALES      GRAL PAZ  ...     NaN   \n",
       "2                         AV ENTRE RIOS 2034       AVENIDA  ...  2034.0   \n",
       "3      AV LARRAZABAL Y GRAL VILLEGAS CONRADO       AVENIDA  ...     NaN   \n",
       "4  AV SAN JUAN Y PRESIDENTE LUIS SAENZ PEÑA        AVENIDA  ...     NaN   \n",
       "\n",
       "                                 Cruce  \\\n",
       "0  FERNANDEZ DE LA CRUZ, F., GRAL. AV.   \n",
       "1                  DE LOS CORRALES AV.   \n",
       "2                                  NaN   \n",
       "3             VILLEGAS, CONRADO, GRAL.   \n",
       "4              SAENZ PE?A, LUIS, PRES.   \n",
       "\n",
       "                               Dirección Normalizada COMUNA  \\\n",
       "0  PIEDRA BUENA AV. y FERNANDEZ DE LA CRUZ, F., G...      8   \n",
       "1               PAZ, GRAL. AV. y DE LOS CORRALES AV.      9   \n",
       "2                                ENTRE RIOS AV. 2034      1   \n",
       "3          LARRAZABAL AV. y VILLEGAS, CONRADO, GRAL.      8   \n",
       "4            SAN JUAN AV. y SAENZ PEÃ‘A, LUIS, PRES.      1   \n",
       "\n",
       "                                 XY (CABA)         pos x         pos y  \\\n",
       "0    Point (98896.78238426 93532.43437792)  -58.47533969  -34.68757022   \n",
       "1    Point (95832.05571093 95505.41641999)  -58.50877521  -34.66977709   \n",
       "2   Point (106684.29090040 99706.57687843)  -58.39040293  -34.63189362   \n",
       "3    Point (99840.65224780 94269.16534422)  -58.46503904  -34.68092974   \n",
       "4  Point (106980.32827929 100752.16915795)  -58.38718297  -34.62246630   \n",
       "\n",
       "    PARTICIPANTES VICTIMA    ACUSADO  \n",
       "0       MOTO-AUTO    MOTO       AUTO  \n",
       "1  AUTO-PASAJEROS    AUTO  PASAJEROS  \n",
       "2       MOTO-AUTO    MOTO       AUTO  \n",
       "3         MOTO-SD    MOTO         SD  \n",
       "4  MOTO-PASAJEROS    MOTO  PASAJEROS  \n",
       "\n",
       "[5 rows x 21 columns]"
      ]
     },
     "execution_count": 5,
     "metadata": {},
     "output_type": "execute_result"
    }
   ],
   "source": [
    "hechos.head(5)"
   ]
  },
  {
   "cell_type": "markdown",
   "metadata": {},
   "source": [
    "Lo primero que consideraremos es la cantidad de información disponible en la columna altura. Decidimos borrarla pues solo tiene 129 filas con información y adicionalmente contamos con la dirección completa y la longitud y la latitud y la geo codificación plana XY (CABA)"
   ]
  },
  {
   "cell_type": "code",
   "execution_count": 6,
   "metadata": {},
   "outputs": [],
   "source": [
    "hechos.drop(columns=['Altura'], inplace=True)"
   ]
  },
  {
   "cell_type": "markdown",
   "metadata": {},
   "source": [
    "Nuestro segundo paso será depurar la geo codificación plana que nos permite ubicarnos en un plano bidimensional en un lugar preciso"
   ]
  },
  {
   "cell_type": "code",
   "execution_count": 7,
   "metadata": {},
   "outputs": [],
   "source": [
    "hechos['XY (CABA)'] = hechos['XY (CABA)'].str.extract(r'\\(([^)]+)')"
   ]
  },
  {
   "cell_type": "code",
   "execution_count": 8,
   "metadata": {},
   "outputs": [
    {
     "data": {
      "text/html": [
       "<div>\n",
       "<style scoped>\n",
       "    .dataframe tbody tr th:only-of-type {\n",
       "        vertical-align: middle;\n",
       "    }\n",
       "\n",
       "    .dataframe tbody tr th {\n",
       "        vertical-align: top;\n",
       "    }\n",
       "\n",
       "    .dataframe thead th {\n",
       "        text-align: right;\n",
       "    }\n",
       "</style>\n",
       "<table border=\"1\" class=\"dataframe\">\n",
       "  <thead>\n",
       "    <tr style=\"text-align: right;\">\n",
       "      <th></th>\n",
       "      <th>ID</th>\n",
       "      <th>N_VICTIMAS</th>\n",
       "      <th>FECHA</th>\n",
       "      <th>AAAA</th>\n",
       "      <th>MM</th>\n",
       "      <th>DD</th>\n",
       "      <th>HORA</th>\n",
       "      <th>HH</th>\n",
       "      <th>LUGAR_DEL_HECHO</th>\n",
       "      <th>TIPO_DE_CALLE</th>\n",
       "      <th>Calle</th>\n",
       "      <th>Cruce</th>\n",
       "      <th>Dirección Normalizada</th>\n",
       "      <th>COMUNA</th>\n",
       "      <th>XY (CABA)</th>\n",
       "      <th>pos x</th>\n",
       "      <th>pos y</th>\n",
       "      <th>PARTICIPANTES</th>\n",
       "      <th>VICTIMA</th>\n",
       "      <th>ACUSADO</th>\n",
       "    </tr>\n",
       "  </thead>\n",
       "  <tbody>\n",
       "    <tr>\n",
       "      <th>0</th>\n",
       "      <td>2016-0001</td>\n",
       "      <td>1</td>\n",
       "      <td>2016-01-01</td>\n",
       "      <td>2016</td>\n",
       "      <td>1</td>\n",
       "      <td>1</td>\n",
       "      <td>04:00:00</td>\n",
       "      <td>4</td>\n",
       "      <td>AV PIEDRA BUENA Y AV FERNANDEZ DE LA CRUZ</td>\n",
       "      <td>AVENIDA</td>\n",
       "      <td>PIEDRA BUENA AV.</td>\n",
       "      <td>FERNANDEZ DE LA CRUZ, F., GRAL. AV.</td>\n",
       "      <td>PIEDRA BUENA AV. y FERNANDEZ DE LA CRUZ, F., G...</td>\n",
       "      <td>8</td>\n",
       "      <td>98896.78238426 93532.43437792</td>\n",
       "      <td>-58.47533969</td>\n",
       "      <td>-34.68757022</td>\n",
       "      <td>MOTO-AUTO</td>\n",
       "      <td>MOTO</td>\n",
       "      <td>AUTO</td>\n",
       "    </tr>\n",
       "    <tr>\n",
       "      <th>1</th>\n",
       "      <td>2016-0002</td>\n",
       "      <td>1</td>\n",
       "      <td>2016-01-02</td>\n",
       "      <td>2016</td>\n",
       "      <td>1</td>\n",
       "      <td>2</td>\n",
       "      <td>01:15:00</td>\n",
       "      <td>1</td>\n",
       "      <td>AV GRAL PAZ  Y AV DE LOS CORRALES</td>\n",
       "      <td>GRAL PAZ</td>\n",
       "      <td>PAZ, GRAL. AV.</td>\n",
       "      <td>DE LOS CORRALES AV.</td>\n",
       "      <td>PAZ, GRAL. AV. y DE LOS CORRALES AV.</td>\n",
       "      <td>9</td>\n",
       "      <td>95832.05571093 95505.41641999</td>\n",
       "      <td>-58.50877521</td>\n",
       "      <td>-34.66977709</td>\n",
       "      <td>AUTO-PASAJEROS</td>\n",
       "      <td>AUTO</td>\n",
       "      <td>PASAJEROS</td>\n",
       "    </tr>\n",
       "    <tr>\n",
       "      <th>2</th>\n",
       "      <td>2016-0003</td>\n",
       "      <td>1</td>\n",
       "      <td>2016-01-03</td>\n",
       "      <td>2016</td>\n",
       "      <td>1</td>\n",
       "      <td>3</td>\n",
       "      <td>07:00:00</td>\n",
       "      <td>7</td>\n",
       "      <td>AV ENTRE RIOS 2034</td>\n",
       "      <td>AVENIDA</td>\n",
       "      <td>ENTRE RIOS AV.</td>\n",
       "      <td>NaN</td>\n",
       "      <td>ENTRE RIOS AV. 2034</td>\n",
       "      <td>1</td>\n",
       "      <td>106684.29090040 99706.57687843</td>\n",
       "      <td>-58.39040293</td>\n",
       "      <td>-34.63189362</td>\n",
       "      <td>MOTO-AUTO</td>\n",
       "      <td>MOTO</td>\n",
       "      <td>AUTO</td>\n",
       "    </tr>\n",
       "    <tr>\n",
       "      <th>3</th>\n",
       "      <td>2016-0004</td>\n",
       "      <td>1</td>\n",
       "      <td>2016-01-10</td>\n",
       "      <td>2016</td>\n",
       "      <td>1</td>\n",
       "      <td>10</td>\n",
       "      <td>00:00:00</td>\n",
       "      <td>0</td>\n",
       "      <td>AV LARRAZABAL Y GRAL VILLEGAS CONRADO</td>\n",
       "      <td>AVENIDA</td>\n",
       "      <td>LARRAZABAL AV.</td>\n",
       "      <td>VILLEGAS, CONRADO, GRAL.</td>\n",
       "      <td>LARRAZABAL AV. y VILLEGAS, CONRADO, GRAL.</td>\n",
       "      <td>8</td>\n",
       "      <td>99840.65224780 94269.16534422</td>\n",
       "      <td>-58.46503904</td>\n",
       "      <td>-34.68092974</td>\n",
       "      <td>MOTO-SD</td>\n",
       "      <td>MOTO</td>\n",
       "      <td>SD</td>\n",
       "    </tr>\n",
       "    <tr>\n",
       "      <th>4</th>\n",
       "      <td>2016-0005</td>\n",
       "      <td>1</td>\n",
       "      <td>2016-01-21</td>\n",
       "      <td>2016</td>\n",
       "      <td>1</td>\n",
       "      <td>21</td>\n",
       "      <td>05:20:00</td>\n",
       "      <td>5</td>\n",
       "      <td>AV SAN JUAN Y PRESIDENTE LUIS SAENZ PEÑA</td>\n",
       "      <td>AVENIDA</td>\n",
       "      <td>SAN JUAN AV.</td>\n",
       "      <td>SAENZ PE?A, LUIS, PRES.</td>\n",
       "      <td>SAN JUAN AV. y SAENZ PEÃ‘A, LUIS, PRES.</td>\n",
       "      <td>1</td>\n",
       "      <td>106980.32827929 100752.16915795</td>\n",
       "      <td>-58.38718297</td>\n",
       "      <td>-34.62246630</td>\n",
       "      <td>MOTO-PASAJEROS</td>\n",
       "      <td>MOTO</td>\n",
       "      <td>PASAJEROS</td>\n",
       "    </tr>\n",
       "  </tbody>\n",
       "</table>\n",
       "</div>"
      ],
      "text/plain": [
       "          ID  N_VICTIMAS      FECHA  AAAA  MM  DD      HORA HH  \\\n",
       "0  2016-0001           1 2016-01-01  2016   1   1  04:00:00  4   \n",
       "1  2016-0002           1 2016-01-02  2016   1   2  01:15:00  1   \n",
       "2  2016-0003           1 2016-01-03  2016   1   3  07:00:00  7   \n",
       "3  2016-0004           1 2016-01-10  2016   1  10  00:00:00  0   \n",
       "4  2016-0005           1 2016-01-21  2016   1  21  05:20:00  5   \n",
       "\n",
       "                             LUGAR_DEL_HECHO TIPO_DE_CALLE             Calle  \\\n",
       "0  AV PIEDRA BUENA Y AV FERNANDEZ DE LA CRUZ       AVENIDA  PIEDRA BUENA AV.   \n",
       "1          AV GRAL PAZ  Y AV DE LOS CORRALES      GRAL PAZ    PAZ, GRAL. AV.   \n",
       "2                         AV ENTRE RIOS 2034       AVENIDA    ENTRE RIOS AV.   \n",
       "3      AV LARRAZABAL Y GRAL VILLEGAS CONRADO       AVENIDA    LARRAZABAL AV.   \n",
       "4  AV SAN JUAN Y PRESIDENTE LUIS SAENZ PEÑA        AVENIDA      SAN JUAN AV.   \n",
       "\n",
       "                                 Cruce  \\\n",
       "0  FERNANDEZ DE LA CRUZ, F., GRAL. AV.   \n",
       "1                  DE LOS CORRALES AV.   \n",
       "2                                  NaN   \n",
       "3             VILLEGAS, CONRADO, GRAL.   \n",
       "4              SAENZ PE?A, LUIS, PRES.   \n",
       "\n",
       "                               Dirección Normalizada  COMUNA  \\\n",
       "0  PIEDRA BUENA AV. y FERNANDEZ DE LA CRUZ, F., G...       8   \n",
       "1               PAZ, GRAL. AV. y DE LOS CORRALES AV.       9   \n",
       "2                                ENTRE RIOS AV. 2034       1   \n",
       "3          LARRAZABAL AV. y VILLEGAS, CONRADO, GRAL.       8   \n",
       "4            SAN JUAN AV. y SAENZ PEÃ‘A, LUIS, PRES.       1   \n",
       "\n",
       "                         XY (CABA)         pos x         pos y  \\\n",
       "0    98896.78238426 93532.43437792  -58.47533969  -34.68757022   \n",
       "1    95832.05571093 95505.41641999  -58.50877521  -34.66977709   \n",
       "2   106684.29090040 99706.57687843  -58.39040293  -34.63189362   \n",
       "3    99840.65224780 94269.16534422  -58.46503904  -34.68092974   \n",
       "4  106980.32827929 100752.16915795  -58.38718297  -34.62246630   \n",
       "\n",
       "    PARTICIPANTES VICTIMA    ACUSADO  \n",
       "0       MOTO-AUTO    MOTO       AUTO  \n",
       "1  AUTO-PASAJEROS    AUTO  PASAJEROS  \n",
       "2       MOTO-AUTO    MOTO       AUTO  \n",
       "3         MOTO-SD    MOTO         SD  \n",
       "4  MOTO-PASAJEROS    MOTO  PASAJEROS  "
      ]
     },
     "execution_count": 8,
     "metadata": {},
     "output_type": "execute_result"
    }
   ],
   "source": [
    "hechos.head(5)"
   ]
  },
  {
   "cell_type": "markdown",
   "metadata": {},
   "source": [
    "Ahora separaremos longitud y latitud con base en el espacio entre ambos"
   ]
  },
  {
   "cell_type": "code",
   "execution_count": 9,
   "metadata": {},
   "outputs": [],
   "source": [
    "hechos[['geo plana X','geo plana Y']] = hechos['XY (CABA)'].str.split(expand=True)"
   ]
  },
  {
   "cell_type": "markdown",
   "metadata": {},
   "source": [
    "Eliminamos la columna 'XY (CABA)'"
   ]
  },
  {
   "cell_type": "code",
   "execution_count": 10,
   "metadata": {},
   "outputs": [],
   "source": [
    "hechos = hechos.drop(columns=['XY (CABA)'])"
   ]
  },
  {
   "cell_type": "code",
   "execution_count": 11,
   "metadata": {},
   "outputs": [
    {
     "data": {
      "text/html": [
       "<div>\n",
       "<style scoped>\n",
       "    .dataframe tbody tr th:only-of-type {\n",
       "        vertical-align: middle;\n",
       "    }\n",
       "\n",
       "    .dataframe tbody tr th {\n",
       "        vertical-align: top;\n",
       "    }\n",
       "\n",
       "    .dataframe thead th {\n",
       "        text-align: right;\n",
       "    }\n",
       "</style>\n",
       "<table border=\"1\" class=\"dataframe\">\n",
       "  <thead>\n",
       "    <tr style=\"text-align: right;\">\n",
       "      <th></th>\n",
       "      <th>ID</th>\n",
       "      <th>N_VICTIMAS</th>\n",
       "      <th>FECHA</th>\n",
       "      <th>AAAA</th>\n",
       "      <th>MM</th>\n",
       "      <th>DD</th>\n",
       "      <th>HORA</th>\n",
       "      <th>HH</th>\n",
       "      <th>LUGAR_DEL_HECHO</th>\n",
       "      <th>TIPO_DE_CALLE</th>\n",
       "      <th>...</th>\n",
       "      <th>Cruce</th>\n",
       "      <th>Dirección Normalizada</th>\n",
       "      <th>COMUNA</th>\n",
       "      <th>pos x</th>\n",
       "      <th>pos y</th>\n",
       "      <th>PARTICIPANTES</th>\n",
       "      <th>VICTIMA</th>\n",
       "      <th>ACUSADO</th>\n",
       "      <th>geo plana X</th>\n",
       "      <th>geo plana Y</th>\n",
       "    </tr>\n",
       "  </thead>\n",
       "  <tbody>\n",
       "    <tr>\n",
       "      <th>0</th>\n",
       "      <td>2016-0001</td>\n",
       "      <td>1</td>\n",
       "      <td>2016-01-01</td>\n",
       "      <td>2016</td>\n",
       "      <td>1</td>\n",
       "      <td>1</td>\n",
       "      <td>04:00:00</td>\n",
       "      <td>4</td>\n",
       "      <td>AV PIEDRA BUENA Y AV FERNANDEZ DE LA CRUZ</td>\n",
       "      <td>AVENIDA</td>\n",
       "      <td>...</td>\n",
       "      <td>FERNANDEZ DE LA CRUZ, F., GRAL. AV.</td>\n",
       "      <td>PIEDRA BUENA AV. y FERNANDEZ DE LA CRUZ, F., G...</td>\n",
       "      <td>8</td>\n",
       "      <td>-58.47533969</td>\n",
       "      <td>-34.68757022</td>\n",
       "      <td>MOTO-AUTO</td>\n",
       "      <td>MOTO</td>\n",
       "      <td>AUTO</td>\n",
       "      <td>98896.78238426</td>\n",
       "      <td>93532.43437792</td>\n",
       "    </tr>\n",
       "    <tr>\n",
       "      <th>1</th>\n",
       "      <td>2016-0002</td>\n",
       "      <td>1</td>\n",
       "      <td>2016-01-02</td>\n",
       "      <td>2016</td>\n",
       "      <td>1</td>\n",
       "      <td>2</td>\n",
       "      <td>01:15:00</td>\n",
       "      <td>1</td>\n",
       "      <td>AV GRAL PAZ  Y AV DE LOS CORRALES</td>\n",
       "      <td>GRAL PAZ</td>\n",
       "      <td>...</td>\n",
       "      <td>DE LOS CORRALES AV.</td>\n",
       "      <td>PAZ, GRAL. AV. y DE LOS CORRALES AV.</td>\n",
       "      <td>9</td>\n",
       "      <td>-58.50877521</td>\n",
       "      <td>-34.66977709</td>\n",
       "      <td>AUTO-PASAJEROS</td>\n",
       "      <td>AUTO</td>\n",
       "      <td>PASAJEROS</td>\n",
       "      <td>95832.05571093</td>\n",
       "      <td>95505.41641999</td>\n",
       "    </tr>\n",
       "    <tr>\n",
       "      <th>2</th>\n",
       "      <td>2016-0003</td>\n",
       "      <td>1</td>\n",
       "      <td>2016-01-03</td>\n",
       "      <td>2016</td>\n",
       "      <td>1</td>\n",
       "      <td>3</td>\n",
       "      <td>07:00:00</td>\n",
       "      <td>7</td>\n",
       "      <td>AV ENTRE RIOS 2034</td>\n",
       "      <td>AVENIDA</td>\n",
       "      <td>...</td>\n",
       "      <td>NaN</td>\n",
       "      <td>ENTRE RIOS AV. 2034</td>\n",
       "      <td>1</td>\n",
       "      <td>-58.39040293</td>\n",
       "      <td>-34.63189362</td>\n",
       "      <td>MOTO-AUTO</td>\n",
       "      <td>MOTO</td>\n",
       "      <td>AUTO</td>\n",
       "      <td>106684.29090040</td>\n",
       "      <td>99706.57687843</td>\n",
       "    </tr>\n",
       "    <tr>\n",
       "      <th>3</th>\n",
       "      <td>2016-0004</td>\n",
       "      <td>1</td>\n",
       "      <td>2016-01-10</td>\n",
       "      <td>2016</td>\n",
       "      <td>1</td>\n",
       "      <td>10</td>\n",
       "      <td>00:00:00</td>\n",
       "      <td>0</td>\n",
       "      <td>AV LARRAZABAL Y GRAL VILLEGAS CONRADO</td>\n",
       "      <td>AVENIDA</td>\n",
       "      <td>...</td>\n",
       "      <td>VILLEGAS, CONRADO, GRAL.</td>\n",
       "      <td>LARRAZABAL AV. y VILLEGAS, CONRADO, GRAL.</td>\n",
       "      <td>8</td>\n",
       "      <td>-58.46503904</td>\n",
       "      <td>-34.68092974</td>\n",
       "      <td>MOTO-SD</td>\n",
       "      <td>MOTO</td>\n",
       "      <td>SD</td>\n",
       "      <td>99840.65224780</td>\n",
       "      <td>94269.16534422</td>\n",
       "    </tr>\n",
       "    <tr>\n",
       "      <th>4</th>\n",
       "      <td>2016-0005</td>\n",
       "      <td>1</td>\n",
       "      <td>2016-01-21</td>\n",
       "      <td>2016</td>\n",
       "      <td>1</td>\n",
       "      <td>21</td>\n",
       "      <td>05:20:00</td>\n",
       "      <td>5</td>\n",
       "      <td>AV SAN JUAN Y PRESIDENTE LUIS SAENZ PEÑA</td>\n",
       "      <td>AVENIDA</td>\n",
       "      <td>...</td>\n",
       "      <td>SAENZ PE?A, LUIS, PRES.</td>\n",
       "      <td>SAN JUAN AV. y SAENZ PEÃ‘A, LUIS, PRES.</td>\n",
       "      <td>1</td>\n",
       "      <td>-58.38718297</td>\n",
       "      <td>-34.62246630</td>\n",
       "      <td>MOTO-PASAJEROS</td>\n",
       "      <td>MOTO</td>\n",
       "      <td>PASAJEROS</td>\n",
       "      <td>106980.32827929</td>\n",
       "      <td>100752.16915795</td>\n",
       "    </tr>\n",
       "  </tbody>\n",
       "</table>\n",
       "<p>5 rows × 21 columns</p>\n",
       "</div>"
      ],
      "text/plain": [
       "          ID  N_VICTIMAS      FECHA  AAAA  MM  DD      HORA HH  \\\n",
       "0  2016-0001           1 2016-01-01  2016   1   1  04:00:00  4   \n",
       "1  2016-0002           1 2016-01-02  2016   1   2  01:15:00  1   \n",
       "2  2016-0003           1 2016-01-03  2016   1   3  07:00:00  7   \n",
       "3  2016-0004           1 2016-01-10  2016   1  10  00:00:00  0   \n",
       "4  2016-0005           1 2016-01-21  2016   1  21  05:20:00  5   \n",
       "\n",
       "                             LUGAR_DEL_HECHO TIPO_DE_CALLE  ...  \\\n",
       "0  AV PIEDRA BUENA Y AV FERNANDEZ DE LA CRUZ       AVENIDA  ...   \n",
       "1          AV GRAL PAZ  Y AV DE LOS CORRALES      GRAL PAZ  ...   \n",
       "2                         AV ENTRE RIOS 2034       AVENIDA  ...   \n",
       "3      AV LARRAZABAL Y GRAL VILLEGAS CONRADO       AVENIDA  ...   \n",
       "4  AV SAN JUAN Y PRESIDENTE LUIS SAENZ PEÑA        AVENIDA  ...   \n",
       "\n",
       "                                 Cruce  \\\n",
       "0  FERNANDEZ DE LA CRUZ, F., GRAL. AV.   \n",
       "1                  DE LOS CORRALES AV.   \n",
       "2                                  NaN   \n",
       "3             VILLEGAS, CONRADO, GRAL.   \n",
       "4              SAENZ PE?A, LUIS, PRES.   \n",
       "\n",
       "                               Dirección Normalizada COMUNA         pos x  \\\n",
       "0  PIEDRA BUENA AV. y FERNANDEZ DE LA CRUZ, F., G...      8  -58.47533969   \n",
       "1               PAZ, GRAL. AV. y DE LOS CORRALES AV.      9  -58.50877521   \n",
       "2                                ENTRE RIOS AV. 2034      1  -58.39040293   \n",
       "3          LARRAZABAL AV. y VILLEGAS, CONRADO, GRAL.      8  -58.46503904   \n",
       "4            SAN JUAN AV. y SAENZ PEÃ‘A, LUIS, PRES.      1  -58.38718297   \n",
       "\n",
       "          pos y   PARTICIPANTES VICTIMA    ACUSADO      geo plana X  \\\n",
       "0  -34.68757022       MOTO-AUTO    MOTO       AUTO   98896.78238426   \n",
       "1  -34.66977709  AUTO-PASAJEROS    AUTO  PASAJEROS   95832.05571093   \n",
       "2  -34.63189362       MOTO-AUTO    MOTO       AUTO  106684.29090040   \n",
       "3  -34.68092974         MOTO-SD    MOTO         SD   99840.65224780   \n",
       "4  -34.62246630  MOTO-PASAJEROS    MOTO  PASAJEROS  106980.32827929   \n",
       "\n",
       "       geo plana Y  \n",
       "0   93532.43437792  \n",
       "1   95505.41641999  \n",
       "2   99706.57687843  \n",
       "3   94269.16534422  \n",
       "4  100752.16915795  \n",
       "\n",
       "[5 rows x 21 columns]"
      ]
     },
     "execution_count": 11,
     "metadata": {},
     "output_type": "execute_result"
    }
   ],
   "source": [
    "hechos.head(5)"
   ]
  },
  {
   "cell_type": "markdown",
   "metadata": {},
   "source": [
    "Como ya tenemos nuestras coordenadas geoespaciales planas y estas nos ayudaran a ubicarnos, vamos a eliminar las columnas calle y cruce, además nuestra dirección normalizada es el compuesto de las dos nombradas anteriormente + la altura de acuerdo a la disponibilidad de las 3"
   ]
  },
  {
   "cell_type": "code",
   "execution_count": 12,
   "metadata": {},
   "outputs": [],
   "source": [
    "hechos = hechos.drop(columns=['Calle', 'Cruce'])"
   ]
  },
  {
   "cell_type": "markdown",
   "metadata": {},
   "source": [
    "Eliminaremos la columna hora, pues no necesitamos los minutos en que ocurrió el accidente y HH nos muestra la franja horaria"
   ]
  },
  {
   "cell_type": "code",
   "execution_count": 13,
   "metadata": {},
   "outputs": [],
   "source": [
    "hechos = hechos.drop(columns=['HORA'])"
   ]
  },
  {
   "cell_type": "markdown",
   "metadata": {},
   "source": [
    "Como la columna HH está en formato objeto, vamos a cambiarla a tipo int, hay una fila que tiene problemas pues trae el valor 'SD', como nuestra franja horaria con más accidentes son las 7am valor a imputar esta fila con ese valor"
   ]
  },
  {
   "cell_type": "code",
   "execution_count": 14,
   "metadata": {},
   "outputs": [],
   "source": [
    "hechos['HH'] = pd.to_numeric(hechos['HH'], errors='coerce')\n",
    "hechos['HH'].fillna(7, inplace=True)\n",
    "hechos['HH'].value_counts()\n",
    "hechos['HH'] = hechos['HH'].astype(int)"
   ]
  },
  {
   "cell_type": "code",
   "execution_count": 15,
   "metadata": {},
   "outputs": [
    {
     "name": "stdout",
     "output_type": "stream",
     "text": [
      "<class 'pandas.core.frame.DataFrame'>\n",
      "RangeIndex: 696 entries, 0 to 695\n",
      "Data columns (total 18 columns):\n",
      " #   Column                 Non-Null Count  Dtype         \n",
      "---  ------                 --------------  -----         \n",
      " 0   ID                     696 non-null    object        \n",
      " 1   N_VICTIMAS             696 non-null    int64         \n",
      " 2   FECHA                  696 non-null    datetime64[ns]\n",
      " 3   AAAA                   696 non-null    int64         \n",
      " 4   MM                     696 non-null    int64         \n",
      " 5   DD                     696 non-null    int64         \n",
      " 6   HH                     696 non-null    int32         \n",
      " 7   LUGAR_DEL_HECHO        696 non-null    object        \n",
      " 8   TIPO_DE_CALLE          696 non-null    object        \n",
      " 9   Dirección Normalizada  688 non-null    object        \n",
      " 10  COMUNA                 696 non-null    int64         \n",
      " 11  pos x                  696 non-null    object        \n",
      " 12  pos y                  696 non-null    object        \n",
      " 13  PARTICIPANTES          696 non-null    object        \n",
      " 14  VICTIMA                696 non-null    object        \n",
      " 15  ACUSADO                696 non-null    object        \n",
      " 16  geo plana X            696 non-null    object        \n",
      " 17  geo plana Y            696 non-null    object        \n",
      "dtypes: datetime64[ns](1), int32(1), int64(5), object(11)\n",
      "memory usage: 95.3+ KB\n"
     ]
    }
   ],
   "source": [
    "hechos.info()"
   ]
  },
  {
   "cell_type": "markdown",
   "metadata": {},
   "source": [
    "Verificamos valores duplicados"
   ]
  },
  {
   "cell_type": "code",
   "execution_count": 16,
   "metadata": {},
   "outputs": [
    {
     "data": {
      "text/html": [
       "<div>\n",
       "<style scoped>\n",
       "    .dataframe tbody tr th:only-of-type {\n",
       "        vertical-align: middle;\n",
       "    }\n",
       "\n",
       "    .dataframe tbody tr th {\n",
       "        vertical-align: top;\n",
       "    }\n",
       "\n",
       "    .dataframe thead th {\n",
       "        text-align: right;\n",
       "    }\n",
       "</style>\n",
       "<table border=\"1\" class=\"dataframe\">\n",
       "  <thead>\n",
       "    <tr style=\"text-align: right;\">\n",
       "      <th></th>\n",
       "      <th>ID</th>\n",
       "      <th>N_VICTIMAS</th>\n",
       "      <th>FECHA</th>\n",
       "      <th>AAAA</th>\n",
       "      <th>MM</th>\n",
       "      <th>DD</th>\n",
       "      <th>HH</th>\n",
       "      <th>LUGAR_DEL_HECHO</th>\n",
       "      <th>TIPO_DE_CALLE</th>\n",
       "      <th>Dirección Normalizada</th>\n",
       "      <th>COMUNA</th>\n",
       "      <th>pos x</th>\n",
       "      <th>pos y</th>\n",
       "      <th>PARTICIPANTES</th>\n",
       "      <th>VICTIMA</th>\n",
       "      <th>ACUSADO</th>\n",
       "      <th>geo plana X</th>\n",
       "      <th>geo plana Y</th>\n",
       "    </tr>\n",
       "  </thead>\n",
       "  <tbody>\n",
       "  </tbody>\n",
       "</table>\n",
       "</div>"
      ],
      "text/plain": [
       "Empty DataFrame\n",
       "Columns: [ID, N_VICTIMAS, FECHA, AAAA, MM, DD, HH, LUGAR_DEL_HECHO, TIPO_DE_CALLE, Dirección Normalizada, COMUNA, pos x, pos y, PARTICIPANTES, VICTIMA, ACUSADO, geo plana X, geo plana Y]\n",
       "Index: []"
      ]
     },
     "execution_count": 16,
     "metadata": {},
     "output_type": "execute_result"
    }
   ],
   "source": [
    "duplicados =  hechos[hechos.duplicated(subset=['ID'])]\n",
    "duplicados"
   ]
  },
  {
   "cell_type": "markdown",
   "metadata": {},
   "source": [
    "## VICTIMAS"
   ]
  },
  {
   "cell_type": "markdown",
   "metadata": {},
   "source": [
    "Leemos la información relevante"
   ]
  },
  {
   "cell_type": "code",
   "execution_count": 17,
   "metadata": {},
   "outputs": [
    {
     "name": "stdout",
     "output_type": "stream",
     "text": [
      "<class 'pandas.core.frame.DataFrame'>\n",
      "RangeIndex: 717 entries, 0 to 716\n",
      "Data columns (total 10 columns):\n",
      " #   Column               Non-Null Count  Dtype         \n",
      "---  ------               --------------  -----         \n",
      " 0   ID_hecho             717 non-null    object        \n",
      " 1   FECHA                717 non-null    datetime64[ns]\n",
      " 2   AAAA                 717 non-null    int64         \n",
      " 3   MM                   717 non-null    int64         \n",
      " 4   DD                   717 non-null    int64         \n",
      " 5   ROL                  717 non-null    object        \n",
      " 6   VICTIMA              717 non-null    object        \n",
      " 7   SEXO                 717 non-null    object        \n",
      " 8   EDAD                 717 non-null    object        \n",
      " 9   FECHA_FALLECIMIENTO  717 non-null    object        \n",
      "dtypes: datetime64[ns](1), int64(3), object(6)\n",
      "memory usage: 56.1+ KB\n"
     ]
    }
   ],
   "source": [
    "victimas.info()"
   ]
  },
  {
   "cell_type": "markdown",
   "metadata": {},
   "source": [
    "Como podemos observar el tamaño de la base de datos hechos en términos de filas difiere de la base de datos víctimas, primero verificaremos duplicados"
   ]
  },
  {
   "cell_type": "code",
   "execution_count": 18,
   "metadata": {},
   "outputs": [
    {
     "data": {
      "text/html": [
       "<div>\n",
       "<style scoped>\n",
       "    .dataframe tbody tr th:only-of-type {\n",
       "        vertical-align: middle;\n",
       "    }\n",
       "\n",
       "    .dataframe tbody tr th {\n",
       "        vertical-align: top;\n",
       "    }\n",
       "\n",
       "    .dataframe thead th {\n",
       "        text-align: right;\n",
       "    }\n",
       "</style>\n",
       "<table border=\"1\" class=\"dataframe\">\n",
       "  <thead>\n",
       "    <tr style=\"text-align: right;\">\n",
       "      <th></th>\n",
       "      <th>ID_hecho</th>\n",
       "      <th>FECHA</th>\n",
       "      <th>AAAA</th>\n",
       "      <th>MM</th>\n",
       "      <th>DD</th>\n",
       "      <th>ROL</th>\n",
       "      <th>VICTIMA</th>\n",
       "      <th>SEXO</th>\n",
       "      <th>EDAD</th>\n",
       "      <th>FECHA_FALLECIMIENTO</th>\n",
       "    </tr>\n",
       "  </thead>\n",
       "  <tbody>\n",
       "    <tr>\n",
       "      <th>30</th>\n",
       "      <td>2016-0041</td>\n",
       "      <td>2016-03-29</td>\n",
       "      <td>2016</td>\n",
       "      <td>3</td>\n",
       "      <td>29</td>\n",
       "      <td>PASAJERO_ACOMPAÑANTE</td>\n",
       "      <td>MOTO</td>\n",
       "      <td>MASCULINO</td>\n",
       "      <td>SD</td>\n",
       "      <td>2016-03-30 00:00:00</td>\n",
       "    </tr>\n",
       "    <tr>\n",
       "      <th>99</th>\n",
       "      <td>2016-0126</td>\n",
       "      <td>2016-09-18</td>\n",
       "      <td>2016</td>\n",
       "      <td>9</td>\n",
       "      <td>18</td>\n",
       "      <td>PASAJERO_ACOMPAÑANTE</td>\n",
       "      <td>AUTO</td>\n",
       "      <td>MASCULINO</td>\n",
       "      <td>60</td>\n",
       "      <td>SD</td>\n",
       "    </tr>\n",
       "    <tr>\n",
       "      <th>164</th>\n",
       "      <td>2017-0026</td>\n",
       "      <td>2017-02-26</td>\n",
       "      <td>2017</td>\n",
       "      <td>2</td>\n",
       "      <td>26</td>\n",
       "      <td>CONDUCTOR</td>\n",
       "      <td>AUTO</td>\n",
       "      <td>MASCULINO</td>\n",
       "      <td>19</td>\n",
       "      <td>2017-02-26 00:00:00</td>\n",
       "    </tr>\n",
       "    <tr>\n",
       "      <th>174</th>\n",
       "      <td>2017-0035</td>\n",
       "      <td>2017-03-23</td>\n",
       "      <td>2017</td>\n",
       "      <td>3</td>\n",
       "      <td>23</td>\n",
       "      <td>PASAJERO_ACOMPAÑANTE</td>\n",
       "      <td>AUTO</td>\n",
       "      <td>MASCULINO</td>\n",
       "      <td>32</td>\n",
       "      <td>2017-03-23 00:00:00</td>\n",
       "    </tr>\n",
       "    <tr>\n",
       "      <th>175</th>\n",
       "      <td>2017-0035</td>\n",
       "      <td>2017-03-23</td>\n",
       "      <td>2017</td>\n",
       "      <td>3</td>\n",
       "      <td>23</td>\n",
       "      <td>PASAJERO_ACOMPAÑANTE</td>\n",
       "      <td>AUTO</td>\n",
       "      <td>MASCULINO</td>\n",
       "      <td>30</td>\n",
       "      <td>2017-03-23 00:00:00</td>\n",
       "    </tr>\n",
       "    <tr>\n",
       "      <th>177</th>\n",
       "      <td>2017-0036</td>\n",
       "      <td>2017-03-29</td>\n",
       "      <td>2017</td>\n",
       "      <td>3</td>\n",
       "      <td>29</td>\n",
       "      <td>CONDUCTOR</td>\n",
       "      <td>MOTO</td>\n",
       "      <td>MASCULINO</td>\n",
       "      <td>20</td>\n",
       "      <td>2017-03-29 00:00:00</td>\n",
       "    </tr>\n",
       "    <tr>\n",
       "      <th>187</th>\n",
       "      <td>2017-0050</td>\n",
       "      <td>2017-04-28</td>\n",
       "      <td>2017</td>\n",
       "      <td>4</td>\n",
       "      <td>28</td>\n",
       "      <td>PASAJERO_ACOMPAÑANTE</td>\n",
       "      <td>MOTO</td>\n",
       "      <td>MASCULINO</td>\n",
       "      <td>16</td>\n",
       "      <td>2017-04-28 00:00:00</td>\n",
       "    </tr>\n",
       "    <tr>\n",
       "      <th>238</th>\n",
       "      <td>2017-0108</td>\n",
       "      <td>2017-09-02</td>\n",
       "      <td>2017</td>\n",
       "      <td>9</td>\n",
       "      <td>2</td>\n",
       "      <td>PASAJERO_ACOMPAÑANTE</td>\n",
       "      <td>AUTO</td>\n",
       "      <td>MASCULINO</td>\n",
       "      <td>10</td>\n",
       "      <td>2017-09-02 00:00:00</td>\n",
       "    </tr>\n",
       "    <tr>\n",
       "      <th>243</th>\n",
       "      <td>2017-0112</td>\n",
       "      <td>2017-09-10</td>\n",
       "      <td>2017</td>\n",
       "      <td>9</td>\n",
       "      <td>10</td>\n",
       "      <td>PASAJERO_ACOMPAÑANTE</td>\n",
       "      <td>AUTO</td>\n",
       "      <td>MASCULINO</td>\n",
       "      <td>SD</td>\n",
       "      <td>2017-09-13 00:00:00</td>\n",
       "    </tr>\n",
       "    <tr>\n",
       "      <th>254</th>\n",
       "      <td>2017-0126</td>\n",
       "      <td>2017-10-14</td>\n",
       "      <td>2017</td>\n",
       "      <td>10</td>\n",
       "      <td>14</td>\n",
       "      <td>CONDUCTOR</td>\n",
       "      <td>AUTO</td>\n",
       "      <td>MASCULINO</td>\n",
       "      <td>36</td>\n",
       "      <td>2017-10-14 00:00:00</td>\n",
       "    </tr>\n",
       "    <tr>\n",
       "      <th>278</th>\n",
       "      <td>2017-0153</td>\n",
       "      <td>2017-12-11</td>\n",
       "      <td>2017</td>\n",
       "      <td>12</td>\n",
       "      <td>11</td>\n",
       "      <td>CONDUCTOR</td>\n",
       "      <td>MOTO</td>\n",
       "      <td>MASCULINO</td>\n",
       "      <td>30</td>\n",
       "      <td>2017-12-12 00:00:00</td>\n",
       "    </tr>\n",
       "    <tr>\n",
       "      <th>301</th>\n",
       "      <td>2018-0015</td>\n",
       "      <td>2018-02-06</td>\n",
       "      <td>2018</td>\n",
       "      <td>2</td>\n",
       "      <td>6</td>\n",
       "      <td>PASAJERO_ACOMPAÑANTE</td>\n",
       "      <td>MOTO</td>\n",
       "      <td>MASCULINO</td>\n",
       "      <td>19</td>\n",
       "      <td>2018-02-06 00:00:00</td>\n",
       "    </tr>\n",
       "    <tr>\n",
       "      <th>313</th>\n",
       "      <td>2018-0026</td>\n",
       "      <td>2018-03-09</td>\n",
       "      <td>2018</td>\n",
       "      <td>3</td>\n",
       "      <td>9</td>\n",
       "      <td>PASAJERO_ACOMPAÑANTE</td>\n",
       "      <td>MOVIL</td>\n",
       "      <td>MASCULINO</td>\n",
       "      <td>30</td>\n",
       "      <td>2018-03-09 00:00:00</td>\n",
       "    </tr>\n",
       "    <tr>\n",
       "      <th>326</th>\n",
       "      <td>2018-0038</td>\n",
       "      <td>2018-04-20</td>\n",
       "      <td>2018</td>\n",
       "      <td>4</td>\n",
       "      <td>20</td>\n",
       "      <td>PEATON</td>\n",
       "      <td>PEATON</td>\n",
       "      <td>MASCULINO</td>\n",
       "      <td>61</td>\n",
       "      <td>2018-04-20 00:00:00</td>\n",
       "    </tr>\n",
       "    <tr>\n",
       "      <th>374</th>\n",
       "      <td>2018-0085</td>\n",
       "      <td>2018-08-03</td>\n",
       "      <td>2018</td>\n",
       "      <td>8</td>\n",
       "      <td>3</td>\n",
       "      <td>CONDUCTOR</td>\n",
       "      <td>MOTO</td>\n",
       "      <td>MASCULINO</td>\n",
       "      <td>30</td>\n",
       "      <td>2018-08-03 00:00:00</td>\n",
       "    </tr>\n",
       "    <tr>\n",
       "      <th>388</th>\n",
       "      <td>2018-0098</td>\n",
       "      <td>2018-09-09</td>\n",
       "      <td>2018</td>\n",
       "      <td>9</td>\n",
       "      <td>9</td>\n",
       "      <td>PASAJERO_ACOMPAÑANTE</td>\n",
       "      <td>AUTO</td>\n",
       "      <td>MASCULINO</td>\n",
       "      <td>54</td>\n",
       "      <td>2018-09-09 00:00:00</td>\n",
       "    </tr>\n",
       "    <tr>\n",
       "      <th>419</th>\n",
       "      <td>2018-0128</td>\n",
       "      <td>2018-11-25</td>\n",
       "      <td>2018</td>\n",
       "      <td>11</td>\n",
       "      <td>25</td>\n",
       "      <td>PASAJERO_ACOMPAÑANTE</td>\n",
       "      <td>AUTO</td>\n",
       "      <td>FEMENINO</td>\n",
       "      <td>39</td>\n",
       "      <td>2018-11-25 00:00:00</td>\n",
       "    </tr>\n",
       "    <tr>\n",
       "      <th>445</th>\n",
       "      <td>2019-0010</td>\n",
       "      <td>2019-02-02</td>\n",
       "      <td>2019</td>\n",
       "      <td>2</td>\n",
       "      <td>2</td>\n",
       "      <td>PEATON</td>\n",
       "      <td>PEATON</td>\n",
       "      <td>MASCULINO</td>\n",
       "      <td>59</td>\n",
       "      <td>2019-02-02 00:00:00</td>\n",
       "    </tr>\n",
       "    <tr>\n",
       "      <th>577</th>\n",
       "      <td>2020-0038</td>\n",
       "      <td>2020-08-30</td>\n",
       "      <td>2020</td>\n",
       "      <td>8</td>\n",
       "      <td>30</td>\n",
       "      <td>CONDUCTOR</td>\n",
       "      <td>AUTO</td>\n",
       "      <td>MASCULINO</td>\n",
       "      <td>64</td>\n",
       "      <td>2020-08-30 00:00:00</td>\n",
       "    </tr>\n",
       "    <tr>\n",
       "      <th>603</th>\n",
       "      <td>2020-0063</td>\n",
       "      <td>2020-12-05</td>\n",
       "      <td>2020</td>\n",
       "      <td>12</td>\n",
       "      <td>5</td>\n",
       "      <td>PASAJERO_ACOMPAÑANTE</td>\n",
       "      <td>MOTO</td>\n",
       "      <td>MASCULINO</td>\n",
       "      <td>21</td>\n",
       "      <td>2020-12-05 00:00:00</td>\n",
       "    </tr>\n",
       "    <tr>\n",
       "      <th>617</th>\n",
       "      <td>2020-0077</td>\n",
       "      <td>2020-12-25</td>\n",
       "      <td>2020</td>\n",
       "      <td>12</td>\n",
       "      <td>25</td>\n",
       "      <td>PASAJERO_ACOMPAÑANTE</td>\n",
       "      <td>MOTO</td>\n",
       "      <td>FEMENINO</td>\n",
       "      <td>24</td>\n",
       "      <td>2020-12-25 00:00:00</td>\n",
       "    </tr>\n",
       "  </tbody>\n",
       "</table>\n",
       "</div>"
      ],
      "text/plain": [
       "      ID_hecho      FECHA  AAAA  MM  DD                   ROL VICTIMA  \\\n",
       "30   2016-0041 2016-03-29  2016   3  29  PASAJERO_ACOMPAÑANTE    MOTO   \n",
       "99   2016-0126 2016-09-18  2016   9  18  PASAJERO_ACOMPAÑANTE    AUTO   \n",
       "164  2017-0026 2017-02-26  2017   2  26             CONDUCTOR    AUTO   \n",
       "174  2017-0035 2017-03-23  2017   3  23  PASAJERO_ACOMPAÑANTE    AUTO   \n",
       "175  2017-0035 2017-03-23  2017   3  23  PASAJERO_ACOMPAÑANTE    AUTO   \n",
       "177  2017-0036 2017-03-29  2017   3  29             CONDUCTOR    MOTO   \n",
       "187  2017-0050 2017-04-28  2017   4  28  PASAJERO_ACOMPAÑANTE    MOTO   \n",
       "238  2017-0108 2017-09-02  2017   9   2  PASAJERO_ACOMPAÑANTE    AUTO   \n",
       "243  2017-0112 2017-09-10  2017   9  10  PASAJERO_ACOMPAÑANTE    AUTO   \n",
       "254  2017-0126 2017-10-14  2017  10  14             CONDUCTOR    AUTO   \n",
       "278  2017-0153 2017-12-11  2017  12  11             CONDUCTOR    MOTO   \n",
       "301  2018-0015 2018-02-06  2018   2   6  PASAJERO_ACOMPAÑANTE    MOTO   \n",
       "313  2018-0026 2018-03-09  2018   3   9  PASAJERO_ACOMPAÑANTE   MOVIL   \n",
       "326  2018-0038 2018-04-20  2018   4  20                PEATON  PEATON   \n",
       "374  2018-0085 2018-08-03  2018   8   3             CONDUCTOR    MOTO   \n",
       "388  2018-0098 2018-09-09  2018   9   9  PASAJERO_ACOMPAÑANTE    AUTO   \n",
       "419  2018-0128 2018-11-25  2018  11  25  PASAJERO_ACOMPAÑANTE    AUTO   \n",
       "445  2019-0010 2019-02-02  2019   2   2                PEATON  PEATON   \n",
       "577  2020-0038 2020-08-30  2020   8  30             CONDUCTOR    AUTO   \n",
       "603  2020-0063 2020-12-05  2020  12   5  PASAJERO_ACOMPAÑANTE    MOTO   \n",
       "617  2020-0077 2020-12-25  2020  12  25  PASAJERO_ACOMPAÑANTE    MOTO   \n",
       "\n",
       "          SEXO EDAD  FECHA_FALLECIMIENTO  \n",
       "30   MASCULINO   SD  2016-03-30 00:00:00  \n",
       "99   MASCULINO   60                   SD  \n",
       "164  MASCULINO   19  2017-02-26 00:00:00  \n",
       "174  MASCULINO   32  2017-03-23 00:00:00  \n",
       "175  MASCULINO   30  2017-03-23 00:00:00  \n",
       "177  MASCULINO   20  2017-03-29 00:00:00  \n",
       "187  MASCULINO   16  2017-04-28 00:00:00  \n",
       "238  MASCULINO   10  2017-09-02 00:00:00  \n",
       "243  MASCULINO   SD  2017-09-13 00:00:00  \n",
       "254  MASCULINO   36  2017-10-14 00:00:00  \n",
       "278  MASCULINO   30  2017-12-12 00:00:00  \n",
       "301  MASCULINO   19  2018-02-06 00:00:00  \n",
       "313  MASCULINO   30  2018-03-09 00:00:00  \n",
       "326  MASCULINO   61  2018-04-20 00:00:00  \n",
       "374  MASCULINO   30  2018-08-03 00:00:00  \n",
       "388  MASCULINO   54  2018-09-09 00:00:00  \n",
       "419   FEMENINO   39  2018-11-25 00:00:00  \n",
       "445  MASCULINO   59  2019-02-02 00:00:00  \n",
       "577  MASCULINO   64  2020-08-30 00:00:00  \n",
       "603  MASCULINO   21  2020-12-05 00:00:00  \n",
       "617   FEMENINO   24  2020-12-25 00:00:00  "
      ]
     },
     "execution_count": 18,
     "metadata": {},
     "output_type": "execute_result"
    }
   ],
   "source": [
    "duplicados = victimas[victimas['ID_hecho'].duplicated()]\n",
    "duplicados"
   ]
  },
  {
   "cell_type": "markdown",
   "metadata": {},
   "source": [
    "Debe haber alguna razón para ello, exploraremos algunas posiciones por ID_hecho"
   ]
  },
  {
   "cell_type": "code",
   "execution_count": 19,
   "metadata": {},
   "outputs": [
    {
     "name": "stdout",
     "output_type": "stream",
     "text": [
      "     ID_hecho      FECHA  AAAA  MM  DD                   ROL VICTIMA  \\\n",
      "98  2016-0126 2016-09-18  2016   9  18             CONDUCTOR    AUTO   \n",
      "99  2016-0126 2016-09-18  2016   9  18  PASAJERO_ACOMPAÑANTE    AUTO   \n",
      "\n",
      "         SEXO EDAD FECHA_FALLECIMIENTO  \n",
      "98  MASCULINO   37                  SD  \n",
      "99  MASCULINO   60                  SD  \n"
     ]
    }
   ],
   "source": [
    "filtro = victimas[victimas['ID_hecho'] == '2016-0126']\n",
    "print(filtro)"
   ]
  },
  {
   "cell_type": "code",
   "execution_count": 20,
   "metadata": {},
   "outputs": [
    {
     "name": "stdout",
     "output_type": "stream",
     "text": [
      "      ID_hecho      FECHA  AAAA  MM  DD                   ROL VICTIMA  \\\n",
      "173  2017-0035 2017-03-23  2017   3  23             CONDUCTOR    AUTO   \n",
      "174  2017-0035 2017-03-23  2017   3  23  PASAJERO_ACOMPAÑANTE    AUTO   \n",
      "175  2017-0035 2017-03-23  2017   3  23  PASAJERO_ACOMPAÑANTE    AUTO   \n",
      "\n",
      "          SEXO EDAD  FECHA_FALLECIMIENTO  \n",
      "173  MASCULINO   28  2017-03-23 00:00:00  \n",
      "174  MASCULINO   32  2017-03-23 00:00:00  \n",
      "175  MASCULINO   30  2017-03-23 00:00:00  \n"
     ]
    }
   ],
   "source": [
    "filtro = victimas[victimas['ID_hecho'] == '2017-0035']\n",
    "print(filtro)"
   ]
  },
  {
   "cell_type": "markdown",
   "metadata": {},
   "source": [
    "Como podemos observar los duplicados no son precisamente duplicados, los ID están repetidos pues se refiere a casos donde varias personas fallecieron. Dado esto vamos a hacer un merge luego de la depuración con base en la tabla victimas para no perder información valiosa"
   ]
  },
  {
   "cell_type": "markdown",
   "metadata": {},
   "source": [
    "Exploraremos ID_hecho"
   ]
  },
  {
   "cell_type": "code",
   "execution_count": 21,
   "metadata": {},
   "outputs": [
    {
     "data": {
      "text/plain": [
       "ID_hecho\n",
       "2017-0035    3\n",
       "2017-0050    2\n",
       "2016-0041    2\n",
       "2018-0015    2\n",
       "2020-0063    2\n",
       "            ..\n",
       "2017-0115    1\n",
       "2017-0116    1\n",
       "2017-0118    1\n",
       "2017-0120    1\n",
       "2021-0096    1\n",
       "Name: count, Length: 696, dtype: int64"
      ]
     },
     "execution_count": 21,
     "metadata": {},
     "output_type": "execute_result"
    }
   ],
   "source": [
    "victimas['ID_hecho'].value_counts()"
   ]
  },
  {
   "cell_type": "markdown",
   "metadata": {},
   "source": [
    "Exploraremos FECHA"
   ]
  },
  {
   "cell_type": "code",
   "execution_count": 22,
   "metadata": {},
   "outputs": [
    {
     "data": {
      "text/plain": [
       "FECHA\n",
       "2017-02-26    3\n",
       "2016-02-28    3\n",
       "2017-11-19    3\n",
       "2017-12-11    3\n",
       "2018-04-27    3\n",
       "             ..\n",
       "2017-11-23    1\n",
       "2017-11-17    1\n",
       "2017-11-16    1\n",
       "2017-11-07    1\n",
       "2021-12-15    1\n",
       "Name: count, Length: 598, dtype: int64"
      ]
     },
     "execution_count": 22,
     "metadata": {},
     "output_type": "execute_result"
    }
   ],
   "source": [
    "victimas['FECHA'].value_counts()"
   ]
  },
  {
   "cell_type": "markdown",
   "metadata": {},
   "source": [
    "Exploraremos AAAA"
   ]
  },
  {
   "cell_type": "code",
   "execution_count": 23,
   "metadata": {},
   "outputs": [
    {
     "data": {
      "text/plain": [
       "AAAA\n",
       "2018    149\n",
       "2016    146\n",
       "2017    140\n",
       "2019    104\n",
       "2021     97\n",
       "2020     81\n",
       "Name: count, dtype: int64"
      ]
     },
     "execution_count": 23,
     "metadata": {},
     "output_type": "execute_result"
    }
   ],
   "source": [
    "victimas['AAAA'].value_counts()"
   ]
  },
  {
   "cell_type": "markdown",
   "metadata": {},
   "source": [
    "Exploraremos MM"
   ]
  },
  {
   "cell_type": "code",
   "execution_count": 24,
   "metadata": {},
   "outputs": [
    {
     "data": {
      "text/plain": [
       "MM\n",
       "12    81\n",
       "11    68\n",
       "8     67\n",
       "1     62\n",
       "5     60\n",
       "2     59\n",
       "6     58\n",
       "3     56\n",
       "4     52\n",
       "10    52\n",
       "7     51\n",
       "9     51\n",
       "Name: count, dtype: int64"
      ]
     },
     "execution_count": 24,
     "metadata": {},
     "output_type": "execute_result"
    }
   ],
   "source": [
    "victimas['MM'].value_counts()"
   ]
  },
  {
   "cell_type": "markdown",
   "metadata": {},
   "source": [
    "Exploraremos DD"
   ]
  },
  {
   "cell_type": "code",
   "execution_count": 25,
   "metadata": {},
   "outputs": [
    {
     "data": {
      "text/plain": [
       "DD\n",
       "20    32\n",
       "17    30\n",
       "3     28\n",
       "11    28\n",
       "9     27\n",
       "27    27\n",
       "14    27\n",
       "10    26\n",
       "25    26\n",
       "23    26\n",
       "12    26\n",
       "28    26\n",
       "15    25\n",
       "29    25\n",
       "18    24\n",
       "2     24\n",
       "4     23\n",
       "22    23\n",
       "7     23\n",
       "19    23\n",
       "26    22\n",
       "6     20\n",
       "21    20\n",
       "24    19\n",
       "5     19\n",
       "16    18\n",
       "13    18\n",
       "1     18\n",
       "30    17\n",
       "8     14\n",
       "31    13\n",
       "Name: count, dtype: int64"
      ]
     },
     "execution_count": 25,
     "metadata": {},
     "output_type": "execute_result"
    }
   ],
   "source": [
    "victimas['DD'].value_counts()"
   ]
  },
  {
   "cell_type": "markdown",
   "metadata": {},
   "source": [
    "Exploraremos ROL"
   ]
  },
  {
   "cell_type": "code",
   "execution_count": 26,
   "metadata": {},
   "outputs": [
    {
     "data": {
      "text/plain": [
       "ROL\n",
       "CONDUCTOR               330\n",
       "PEATON                  267\n",
       "PASAJERO_ACOMPAÑANTE     80\n",
       "CICLISTA                 29\n",
       "SD                       11\n",
       "Name: count, dtype: int64"
      ]
     },
     "execution_count": 26,
     "metadata": {},
     "output_type": "execute_result"
    }
   ],
   "source": [
    "victimas['ROL'].value_counts()"
   ]
  },
  {
   "cell_type": "markdown",
   "metadata": {},
   "source": [
    "Vamos a imputar los valores SD como CONDUCTOR ya que es la mayor probabilidad y son únicamente 11 valores"
   ]
  },
  {
   "cell_type": "code",
   "execution_count": 27,
   "metadata": {},
   "outputs": [],
   "source": [
    "victimas['ROL'].replace('SD', 'CONDUCTOR', inplace=True)"
   ]
  },
  {
   "cell_type": "code",
   "execution_count": 28,
   "metadata": {},
   "outputs": [
    {
     "data": {
      "text/plain": [
       "ROL\n",
       "CONDUCTOR               341\n",
       "PEATON                  267\n",
       "PASAJERO_ACOMPAÑANTE     80\n",
       "CICLISTA                 29\n",
       "Name: count, dtype: int64"
      ]
     },
     "execution_count": 28,
     "metadata": {},
     "output_type": "execute_result"
    }
   ],
   "source": [
    "victimas['ROL'].value_counts()"
   ]
  },
  {
   "cell_type": "markdown",
   "metadata": {},
   "source": [
    "Exploraremos VICTIMA"
   ]
  },
  {
   "cell_type": "code",
   "execution_count": 29,
   "metadata": {},
   "outputs": [
    {
     "data": {
      "text/plain": [
       "VICTIMA\n",
       "MOTO         303\n",
       "PEATON       267\n",
       "AUTO          94\n",
       "BICICLETA     29\n",
       "SD             9\n",
       "CARGAS         7\n",
       "PASAJEROS      5\n",
       "MOVIL          3\n",
       "Name: count, dtype: int64"
      ]
     },
     "execution_count": 29,
     "metadata": {},
     "output_type": "execute_result"
    }
   ],
   "source": [
    "victimas['VICTIMA'].value_counts()"
   ]
  },
  {
   "cell_type": "markdown",
   "metadata": {},
   "source": [
    "Dado que las victimas en mayor proporción son motos y que se asignó en ROL a las SD conductor, para ser congruentes asignaremos a los valores SD de victima el valor Moto"
   ]
  },
  {
   "cell_type": "code",
   "execution_count": 30,
   "metadata": {},
   "outputs": [],
   "source": [
    "victimas['VICTIMA'].replace('SD', 'MOTO', inplace=True)"
   ]
  },
  {
   "cell_type": "markdown",
   "metadata": {},
   "source": [
    "Exploraremos SEXO"
   ]
  },
  {
   "cell_type": "code",
   "execution_count": 31,
   "metadata": {},
   "outputs": [
    {
     "data": {
      "text/plain": [
       "SEXO\n",
       "MASCULINO    545\n",
       "FEMENINO     166\n",
       "SD             6\n",
       "Name: count, dtype: int64"
      ]
     },
     "execution_count": 31,
     "metadata": {},
     "output_type": "execute_result"
    }
   ],
   "source": [
    "victimas['SEXO'].value_counts()"
   ]
  },
  {
   "cell_type": "markdown",
   "metadata": {},
   "source": [
    "Como en la tabla hechos no hay forma de identificar el SEXO, Vamos a proceder a asignar los valores SD con el sexo masculino que en proporciones es mucho mayor al femenino"
   ]
  },
  {
   "cell_type": "code",
   "execution_count": 32,
   "metadata": {},
   "outputs": [],
   "source": [
    "for ind, elemento in enumerate(victimas['SEXO']):\n",
    "    if elemento == 'SD':\n",
    "        victimas['SEXO'][ind] = 'MASCULINO'\n",
    "    else:\n",
    "        pass"
   ]
  },
  {
   "cell_type": "code",
   "execution_count": 33,
   "metadata": {},
   "outputs": [
    {
     "data": {
      "text/plain": [
       "SEXO\n",
       "MASCULINO    551\n",
       "FEMENINO     166\n",
       "Name: count, dtype: int64"
      ]
     },
     "execution_count": 33,
     "metadata": {},
     "output_type": "execute_result"
    }
   ],
   "source": [
    "victimas['SEXO'].value_counts()"
   ]
  },
  {
   "cell_type": "markdown",
   "metadata": {},
   "source": [
    "Exploraremos EDAD"
   ]
  },
  {
   "cell_type": "code",
   "execution_count": 34,
   "metadata": {},
   "outputs": [
    {
     "data": {
      "text/plain": [
       "EDAD\n",
       "SD    53\n",
       "30    28\n",
       "29    24\n",
       "23    24\n",
       "27    20\n",
       "      ..\n",
       "11     1\n",
       "13     1\n",
       "85     1\n",
       "7      1\n",
       "88     1\n",
       "Name: count, Length: 86, dtype: int64"
      ]
     },
     "execution_count": 34,
     "metadata": {},
     "output_type": "execute_result"
    }
   ],
   "source": [
    "victimas['EDAD'].value_counts()"
   ]
  },
  {
   "cell_type": "markdown",
   "metadata": {},
   "source": [
    "No hay forma de cruzar la información con la base de datos hechos. Una buena forma de calcular una edad estimada es hallar la media por sexo e imputar las filas faltantes con el resultado, para ello primero debemos cambiar el tipo de dato de la comuna EDAD verificando los componentes de la misma"
   ]
  },
  {
   "cell_type": "markdown",
   "metadata": {},
   "source": [
    "Verificamos componentes"
   ]
  },
  {
   "cell_type": "code",
   "execution_count": 35,
   "metadata": {},
   "outputs": [
    {
     "data": {
      "text/plain": [
       "EDAD\n",
       "SD    53\n",
       "30    28\n",
       "29    24\n",
       "23    24\n",
       "27    20\n",
       "      ..\n",
       "11     1\n",
       "13     1\n",
       "85     1\n",
       "7      1\n",
       "88     1\n",
       "Name: count, Length: 86, dtype: int64"
      ]
     },
     "execution_count": 35,
     "metadata": {},
     "output_type": "execute_result"
    }
   ],
   "source": [
    "a = victimas['EDAD'].value_counts()\n",
    "a"
   ]
  },
  {
   "cell_type": "markdown",
   "metadata": {},
   "source": [
    "Procedremos a cambiar los 'SD' por 0"
   ]
  },
  {
   "cell_type": "code",
   "execution_count": 36,
   "metadata": {},
   "outputs": [
    {
     "data": {
      "text/plain": [
       "EDAD\n",
       "0     53\n",
       "30    28\n",
       "29    24\n",
       "23    24\n",
       "27    20\n",
       "      ..\n",
       "11     1\n",
       "13     1\n",
       "85     1\n",
       "7      1\n",
       "88     1\n",
       "Name: count, Length: 86, dtype: int64"
      ]
     },
     "execution_count": 36,
     "metadata": {},
     "output_type": "execute_result"
    }
   ],
   "source": [
    "victimas['EDAD'].replace('SD', 0, inplace=True)\n",
    "a = victimas['EDAD'].value_counts()\n",
    "a"
   ]
  },
  {
   "cell_type": "markdown",
   "metadata": {},
   "source": [
    "Calculamos la media por edad excluyendo los 0 del calculo"
   ]
  },
  {
   "cell_type": "code",
   "execution_count": 37,
   "metadata": {},
   "outputs": [
    {
     "name": "stdout",
     "output_type": "stream",
     "text": [
      "SEXO\n",
      "FEMENINO     50.761290\n",
      "MASCULINO    39.550098\n",
      "Name: EDAD, dtype: float64\n",
      "51.0\n",
      "40.0\n"
     ]
    }
   ],
   "source": [
    "filtro = victimas[victimas['EDAD'] != 0]\n",
    "media = filtro.groupby('SEXO')['EDAD'].mean()\n",
    "masculino = round(media.iloc[1],0)\n",
    "femenino = round(media.iloc[0],0)\n",
    "print(media)\n",
    "print(femenino)\n",
    "print(masculino)"
   ]
  },
  {
   "cell_type": "markdown",
   "metadata": {},
   "source": [
    "Ahora imputaremos los valores faltantes en la columna EDAD con las medias por SEXO"
   ]
  },
  {
   "cell_type": "code",
   "execution_count": 38,
   "metadata": {},
   "outputs": [],
   "source": [
    "mascara = (victimas['SEXO'] == 'FEMENINO') & (victimas['EDAD'] == 0)\n",
    "victimas.loc[mascara, 'EDAD'] = femenino\n",
    "filtro = victimas[victimas['EDAD'] == 0]"
   ]
  },
  {
   "cell_type": "code",
   "execution_count": 39,
   "metadata": {},
   "outputs": [],
   "source": [
    "mascara2 = (victimas['SEXO'] == 'MASCULINO') & (victimas['EDAD'] == 0)\n",
    "victimas.loc[mascara2, 'EDAD'] = masculino\n",
    "filtro = victimas[victimas['EDAD'] == 0]"
   ]
  },
  {
   "cell_type": "code",
   "execution_count": 40,
   "metadata": {},
   "outputs": [
    {
     "data": {
      "text/plain": [
       "EDAD\n",
       "40    53\n",
       "30    28\n",
       "23    24\n",
       "29    24\n",
       "28    20\n",
       "      ..\n",
       "11     1\n",
       "13     1\n",
       "85     1\n",
       "7      1\n",
       "88     1\n",
       "Name: count, Length: 85, dtype: int64"
      ]
     },
     "execution_count": 40,
     "metadata": {},
     "output_type": "execute_result"
    }
   ],
   "source": [
    "a = victimas['EDAD'].value_counts()\n",
    "a"
   ]
  },
  {
   "cell_type": "markdown",
   "metadata": {},
   "source": [
    "Ahora verificaremos la fecha de fallecimiento"
   ]
  },
  {
   "cell_type": "code",
   "execution_count": 41,
   "metadata": {},
   "outputs": [
    {
     "data": {
      "text/plain": [
       "FECHA_FALLECIMIENTO\n",
       "SD                     68\n",
       "2017-02-26 00:00:00     3\n",
       "2017-01-16 00:00:00     3\n",
       "2020-12-25 00:00:00     3\n",
       "2019-12-18 00:00:00     3\n",
       "                       ..\n",
       "2018-01-19 00:00:00     1\n",
       "2018-01-18 00:00:00     1\n",
       "2018-01-14 00:00:00     1\n",
       "2018-01-12 00:00:00     1\n",
       "2022-01-02 00:00:00     1\n",
       "Name: count, Length: 563, dtype: int64"
      ]
     },
     "execution_count": 41,
     "metadata": {},
     "output_type": "execute_result"
    }
   ],
   "source": [
    "victimas['FECHA_FALLECIMIENTO'].value_counts()"
   ]
  },
  {
   "cell_type": "markdown",
   "metadata": {},
   "source": [
    "Vamos a cambios los valores SD por la fecha 1999-12-31 00:00:00, para luego poder reemplazar el tipo de valor. También hay una fecha en otro formato 26/03/2019, la cambiaremos a 26/03/2019 00:00:00"
   ]
  },
  {
   "cell_type": "code",
   "execution_count": 42,
   "metadata": {},
   "outputs": [],
   "source": [
    "victimas['FECHA_FALLECIMIENTO'] = victimas['FECHA_FALLECIMIENTO'].replace('SD', '1999-12-31 00:00:00' )\n",
    "victimas['FECHA_FALLECIMIENTO'] = victimas['FECHA_FALLECIMIENTO'].replace('26/03/2019', '2019-03-26 00:00:00' )\n"
   ]
  },
  {
   "cell_type": "code",
   "execution_count": 43,
   "metadata": {},
   "outputs": [
    {
     "data": {
      "text/plain": [
       "FECHA_FALLECIMIENTO\n",
       "1999-12-31 00:00:00    68\n",
       "2017-02-26 00:00:00     3\n",
       "2017-01-16 00:00:00     3\n",
       "2020-12-25 00:00:00     3\n",
       "2019-12-18 00:00:00     3\n",
       "                       ..\n",
       "2018-01-19 00:00:00     1\n",
       "2018-01-18 00:00:00     1\n",
       "2018-01-14 00:00:00     1\n",
       "2018-01-12 00:00:00     1\n",
       "2022-01-02 00:00:00     1\n",
       "Name: count, Length: 563, dtype: int64"
      ]
     },
     "execution_count": 43,
     "metadata": {},
     "output_type": "execute_result"
    }
   ],
   "source": [
    "a = victimas['FECHA_FALLECIMIENTO'].value_counts()\n",
    "a"
   ]
  },
  {
   "cell_type": "markdown",
   "metadata": {},
   "source": [
    "Como es probable que la fecha de fallecimiento coincida con la fecha del accidente, asumiremos que fue le mismo día"
   ]
  },
  {
   "cell_type": "code",
   "execution_count": 44,
   "metadata": {},
   "outputs": [],
   "source": [
    "for ind, elemento in enumerate(victimas['FECHA_FALLECIMIENTO']):\n",
    "    if elemento == '1999-12-31 00:00:00':\n",
    "        victimas['FECHA_FALLECIMIENTO'][ind] = victimas['FECHA'][ind]\n",
    "    else:\n",
    "        pass"
   ]
  },
  {
   "cell_type": "code",
   "execution_count": 45,
   "metadata": {},
   "outputs": [
    {
     "data": {
      "text/plain": [
       "FECHA_FALLECIMIENTO\n",
       "2016-10-25    4\n",
       "2019-12-18    3\n",
       "2018-04-27    3\n",
       "2017-03-23    3\n",
       "2018-08-03    3\n",
       "             ..\n",
       "2017-11-29    1\n",
       "2017-11-28    1\n",
       "2017-11-25    1\n",
       "2017-11-23    1\n",
       "2022-01-02    1\n",
       "Name: count, Length: 607, dtype: int64"
      ]
     },
     "execution_count": 45,
     "metadata": {},
     "output_type": "execute_result"
    }
   ],
   "source": [
    "a = victimas['FECHA_FALLECIMIENTO'].value_counts()\n",
    "a"
   ]
  },
  {
   "cell_type": "markdown",
   "metadata": {},
   "source": [
    "Ahora cambiamos el tipo de dato a fecha"
   ]
  },
  {
   "cell_type": "code",
   "execution_count": 46,
   "metadata": {},
   "outputs": [],
   "source": [
    "import datetime\n",
    "\n",
    "def to_date(text):\n",
    "    date_string = str(text)\n",
    "    date_format =  '%Y-%m-%d %H:%M:%S'\n",
    "    date = datetime.datetime.strptime(date_string, date_format)\n",
    "    return date\n",
    "\n",
    "victimas['FECHA_FALLECIMIENTO'] = victimas['FECHA_FALLECIMIENTO'].apply(lambda x: to_date(x))\n"
   ]
  },
  {
   "cell_type": "code",
   "execution_count": 47,
   "metadata": {},
   "outputs": [
    {
     "name": "stdout",
     "output_type": "stream",
     "text": [
      "<class 'pandas.core.series.Series'>\n",
      "RangeIndex: 717 entries, 0 to 716\n",
      "Series name: FECHA_FALLECIMIENTO\n",
      "Non-Null Count  Dtype         \n",
      "--------------  -----         \n",
      "717 non-null    datetime64[ns]\n",
      "dtypes: datetime64[ns](1)\n",
      "memory usage: 5.7 KB\n"
     ]
    }
   ],
   "source": [
    "victimas['FECHA_FALLECIMIENTO'].info()"
   ]
  },
  {
   "cell_type": "markdown",
   "metadata": {},
   "source": [
    "## MERGE "
   ]
  },
  {
   "cell_type": "markdown",
   "metadata": {},
   "source": [
    "Lo haremos con el dataframe victimas pues tiene más información que el dataset hechos y recordemos que según los análisis anteriores los duplicados se dan por la cantidad de fallecidos y su rol"
   ]
  },
  {
   "cell_type": "code",
   "execution_count": 48,
   "metadata": {},
   "outputs": [
    {
     "name": "stdout",
     "output_type": "stream",
     "text": [
      "<class 'pandas.core.frame.DataFrame'>\n",
      "RangeIndex: 717 entries, 0 to 716\n",
      "Data columns (total 28 columns):\n",
      " #   Column                 Non-Null Count  Dtype         \n",
      "---  ------                 --------------  -----         \n",
      " 0   ID_hecho               717 non-null    object        \n",
      " 1   FECHA_x                717 non-null    datetime64[ns]\n",
      " 2   AAAA_x                 717 non-null    int64         \n",
      " 3   MM_x                   717 non-null    int64         \n",
      " 4   DD_x                   717 non-null    int64         \n",
      " 5   ROL                    717 non-null    object        \n",
      " 6   VICTIMA_x              717 non-null    object        \n",
      " 7   SEXO                   717 non-null    object        \n",
      " 8   EDAD                   717 non-null    int64         \n",
      " 9   FECHA_FALLECIMIENTO    717 non-null    datetime64[ns]\n",
      " 10  ID                     717 non-null    object        \n",
      " 11  N_VICTIMAS             717 non-null    int64         \n",
      " 12  FECHA_y                717 non-null    datetime64[ns]\n",
      " 13  AAAA_y                 717 non-null    int64         \n",
      " 14  MM_y                   717 non-null    int64         \n",
      " 15  DD_y                   717 non-null    int64         \n",
      " 16  HH                     717 non-null    int32         \n",
      " 17  LUGAR_DEL_HECHO        717 non-null    object        \n",
      " 18  TIPO_DE_CALLE          717 non-null    object        \n",
      " 19  Dirección Normalizada  708 non-null    object        \n",
      " 20  COMUNA                 717 non-null    int64         \n",
      " 21  pos x                  717 non-null    object        \n",
      " 22  pos y                  717 non-null    object        \n",
      " 23  PARTICIPANTES          717 non-null    object        \n",
      " 24  VICTIMA_y              717 non-null    object        \n",
      " 25  ACUSADO                717 non-null    object        \n",
      " 26  geo plana X            717 non-null    object        \n",
      " 27  geo plana Y            717 non-null    object        \n",
      "dtypes: datetime64[ns](3), int32(1), int64(9), object(15)\n",
      "memory usage: 154.2+ KB\n"
     ]
    }
   ],
   "source": [
    "merged = pd.merge(victimas, hechos, left_on= 'ID_hecho', right_on='ID')\n",
    "merged.info()"
   ]
  },
  {
   "cell_type": "markdown",
   "metadata": {},
   "source": [
    "Ahora vamos a chequear participantes que lo habíamos dejado pendiente para comparar con de la Victima del  dataset victimas"
   ]
  },
  {
   "cell_type": "markdown",
   "metadata": {},
   "source": [
    "Verificamos las combinaciones donde se comience con SD en la columna participantes que equivale a la columna victima en el dataframe victimas"
   ]
  },
  {
   "cell_type": "code",
   "execution_count": 49,
   "metadata": {},
   "outputs": [
    {
     "data": {
      "text/plain": [
       "PARTICIPANTES\n",
       "PEATON-PASAJEROS       105\n",
       "MOTO-AUTO               84\n",
       "MOTO-CARGAS             80\n",
       "PEATON-AUTO             79\n",
       "MOTO-PASAJEROS          50\n",
       "MOTO-OBJETO FIJO        40\n",
       "PEATON-CARGAS           38\n",
       "AUTO-AUTO               33\n",
       "PEATON-MOTO             30\n",
       "AUTO-OBJETO FIJO        28\n",
       "MOTO-MOTO               25\n",
       "MULTIPLE                17\n",
       "AUTO-CARGAS             15\n",
       "AUTO-PASAJEROS          10\n",
       "BICICLETA-CARGAS        10\n",
       "MOTO-SD                  9\n",
       "BICICLETA-PASAJEROS      8\n",
       "BICICLETA-AUTO           8\n",
       "SD-SD                    5\n",
       "PEATON-BICICLETA         5\n",
       "CARGAS-CARGAS            4\n",
       "PEATON-SD                4\n",
       "AUTO-SD                  4\n",
       "PASAJEROS-PASAJEROS      3\n",
       "SD-AUTO                  2\n",
       "MOVIL-CARGAS             2\n",
       "MOTO-BICICLETA           2\n",
       "MOTO-OTRO                2\n",
       "PEATON_MOTO-MOTO         2\n",
       "MOTO-MOVIL               2\n",
       "BICICLETA-OTRO           1\n",
       "AUTO-MOVIL               1\n",
       "BICICLETA-TREN           1\n",
       "CARGAS-PASAJEROS         1\n",
       "CARGAS-AUTO              1\n",
       "PASAJEROS-AUTO           1\n",
       "SD-MOTO                  1\n",
       "CARGAS-OBJETO FIJO       1\n",
       "MOVIL-PASAJEROS          1\n",
       "SD-CARGAS                1\n",
       "PASAJEROS-SD             1\n",
       "Name: count, dtype: int64"
      ]
     },
     "execution_count": 49,
     "metadata": {},
     "output_type": "execute_result"
    }
   ],
   "source": [
    "merged['PARTICIPANTES'].value_counts()"
   ]
  },
  {
   "cell_type": "markdown",
   "metadata": {},
   "source": [
    "Estas son las definiciones que comienzan con SD:\n",
    "SD-SD\n",
    "SD-AUTO\n",
    "SD-MOTO\n",
    "SD-CARGAS\n",
    "\n",
    "Ahora vamos a realizar estos filtros para identificar cuando podemos reemplazar el valor SD con la definición de victima"
   ]
  },
  {
   "cell_type": "code",
   "execution_count": 50,
   "metadata": {},
   "outputs": [
    {
     "data": {
      "text/html": [
       "<div>\n",
       "<style scoped>\n",
       "    .dataframe tbody tr th:only-of-type {\n",
       "        vertical-align: middle;\n",
       "    }\n",
       "\n",
       "    .dataframe tbody tr th {\n",
       "        vertical-align: top;\n",
       "    }\n",
       "\n",
       "    .dataframe thead th {\n",
       "        text-align: right;\n",
       "    }\n",
       "</style>\n",
       "<table border=\"1\" class=\"dataframe\">\n",
       "  <thead>\n",
       "    <tr style=\"text-align: right;\">\n",
       "      <th></th>\n",
       "      <th>PARTICIPANTES</th>\n",
       "      <th>VICTIMA_x</th>\n",
       "    </tr>\n",
       "  </thead>\n",
       "  <tbody>\n",
       "    <tr>\n",
       "      <th>36</th>\n",
       "      <td>SD-SD</td>\n",
       "      <td>MOTO</td>\n",
       "    </tr>\n",
       "    <tr>\n",
       "      <th>77</th>\n",
       "      <td>SD-SD</td>\n",
       "      <td>MOTO</td>\n",
       "    </tr>\n",
       "    <tr>\n",
       "      <th>93</th>\n",
       "      <td>SD-SD</td>\n",
       "      <td>MOTO</td>\n",
       "    </tr>\n",
       "    <tr>\n",
       "      <th>141</th>\n",
       "      <td>SD-SD</td>\n",
       "      <td>MOTO</td>\n",
       "    </tr>\n",
       "    <tr>\n",
       "      <th>208</th>\n",
       "      <td>SD-SD</td>\n",
       "      <td>MOTO</td>\n",
       "    </tr>\n",
       "  </tbody>\n",
       "</table>\n",
       "</div>"
      ],
      "text/plain": [
       "    PARTICIPANTES VICTIMA_x\n",
       "36          SD-SD      MOTO\n",
       "77          SD-SD      MOTO\n",
       "93          SD-SD      MOTO\n",
       "141         SD-SD      MOTO\n",
       "208         SD-SD      MOTO"
      ]
     },
     "execution_count": 50,
     "metadata": {},
     "output_type": "execute_result"
    }
   ],
   "source": [
    "filtro = merged[merged['PARTICIPANTES'] == 'SD-SD']\n",
    "filtro[['PARTICIPANTES', 'VICTIMA_x']]"
   ]
  },
  {
   "cell_type": "code",
   "execution_count": 51,
   "metadata": {},
   "outputs": [
    {
     "data": {
      "text/html": [
       "<div>\n",
       "<style scoped>\n",
       "    .dataframe tbody tr th:only-of-type {\n",
       "        vertical-align: middle;\n",
       "    }\n",
       "\n",
       "    .dataframe tbody tr th {\n",
       "        vertical-align: top;\n",
       "    }\n",
       "\n",
       "    .dataframe thead th {\n",
       "        text-align: right;\n",
       "    }\n",
       "</style>\n",
       "<table border=\"1\" class=\"dataframe\">\n",
       "  <thead>\n",
       "    <tr style=\"text-align: right;\">\n",
       "      <th></th>\n",
       "      <th>PARTICIPANTES</th>\n",
       "      <th>VICTIMA_x</th>\n",
       "    </tr>\n",
       "  </thead>\n",
       "  <tbody>\n",
       "    <tr>\n",
       "      <th>167</th>\n",
       "      <td>SD-AUTO</td>\n",
       "      <td>MOTO</td>\n",
       "    </tr>\n",
       "    <tr>\n",
       "      <th>221</th>\n",
       "      <td>SD-AUTO</td>\n",
       "      <td>MOTO</td>\n",
       "    </tr>\n",
       "  </tbody>\n",
       "</table>\n",
       "</div>"
      ],
      "text/plain": [
       "    PARTICIPANTES VICTIMA_x\n",
       "167       SD-AUTO      MOTO\n",
       "221       SD-AUTO      MOTO"
      ]
     },
     "execution_count": 51,
     "metadata": {},
     "output_type": "execute_result"
    }
   ],
   "source": [
    "filtro = merged[merged['PARTICIPANTES'] == 'SD-AUTO']\n",
    "filtro[['PARTICIPANTES', 'VICTIMA_x']]"
   ]
  },
  {
   "cell_type": "code",
   "execution_count": 52,
   "metadata": {},
   "outputs": [
    {
     "data": {
      "text/html": [
       "<div>\n",
       "<style scoped>\n",
       "    .dataframe tbody tr th:only-of-type {\n",
       "        vertical-align: middle;\n",
       "    }\n",
       "\n",
       "    .dataframe tbody tr th {\n",
       "        vertical-align: top;\n",
       "    }\n",
       "\n",
       "    .dataframe thead th {\n",
       "        text-align: right;\n",
       "    }\n",
       "</style>\n",
       "<table border=\"1\" class=\"dataframe\">\n",
       "  <thead>\n",
       "    <tr style=\"text-align: right;\">\n",
       "      <th></th>\n",
       "      <th>PARTICIPANTES</th>\n",
       "      <th>VICTIMA_x</th>\n",
       "    </tr>\n",
       "  </thead>\n",
       "  <tbody>\n",
       "    <tr>\n",
       "      <th>280</th>\n",
       "      <td>SD-MOTO</td>\n",
       "      <td>MOTO</td>\n",
       "    </tr>\n",
       "  </tbody>\n",
       "</table>\n",
       "</div>"
      ],
      "text/plain": [
       "    PARTICIPANTES VICTIMA_x\n",
       "280       SD-MOTO      MOTO"
      ]
     },
     "execution_count": 52,
     "metadata": {},
     "output_type": "execute_result"
    }
   ],
   "source": [
    "filtro = merged[merged['PARTICIPANTES'] == 'SD-MOTO']\n",
    "filtro[['PARTICIPANTES', 'VICTIMA_x']]"
   ]
  },
  {
   "cell_type": "code",
   "execution_count": 53,
   "metadata": {},
   "outputs": [
    {
     "data": {
      "text/html": [
       "<div>\n",
       "<style scoped>\n",
       "    .dataframe tbody tr th:only-of-type {\n",
       "        vertical-align: middle;\n",
       "    }\n",
       "\n",
       "    .dataframe tbody tr th {\n",
       "        vertical-align: top;\n",
       "    }\n",
       "\n",
       "    .dataframe thead th {\n",
       "        text-align: right;\n",
       "    }\n",
       "</style>\n",
       "<table border=\"1\" class=\"dataframe\">\n",
       "  <thead>\n",
       "    <tr style=\"text-align: right;\">\n",
       "      <th></th>\n",
       "      <th>PARTICIPANTES</th>\n",
       "      <th>VICTIMA_x</th>\n",
       "    </tr>\n",
       "  </thead>\n",
       "  <tbody>\n",
       "    <tr>\n",
       "      <th>89</th>\n",
       "      <td>SD-CARGAS</td>\n",
       "      <td>MOTO</td>\n",
       "    </tr>\n",
       "  </tbody>\n",
       "</table>\n",
       "</div>"
      ],
      "text/plain": [
       "   PARTICIPANTES VICTIMA_x\n",
       "89     SD-CARGAS      MOTO"
      ]
     },
     "execution_count": 53,
     "metadata": {},
     "output_type": "execute_result"
    }
   ],
   "source": [
    "filtro = merged[merged['PARTICIPANTES'] == 'SD-CARGAS']\n",
    "filtro[['PARTICIPANTES', 'VICTIMA_x']]"
   ]
  },
  {
   "cell_type": "markdown",
   "metadata": {},
   "source": [
    "Como pudimos ver, no es posible imputar valores desde la columns victima_x del DataFrame victimas a la columna participantes."
   ]
  },
  {
   "cell_type": "markdown",
   "metadata": {},
   "source": [
    "Ahora vamos a seleccionar las columnas de tal forma que no se repitan, pues al hacer el merge tenemos información duplicada"
   ]
  },
  {
   "cell_type": "code",
   "execution_count": 54,
   "metadata": {},
   "outputs": [],
   "source": [
    "hechos_victimas = merged[['ID_hecho', 'FECHA_x', 'AAAA_x','MM_x','DD_x','ROL','VICTIMA_x','SEXO','EDAD','FECHA_FALLECIMIENTO','N_VICTIMAS','HH','LUGAR_DEL_HECHO','TIPO_DE_CALLE','Dirección Normalizada','COMUNA','pos x','pos y','PARTICIPANTES','ACUSADO','geo plana X','geo plana Y']]\n"
   ]
  },
  {
   "cell_type": "code",
   "execution_count": 55,
   "metadata": {},
   "outputs": [
    {
     "name": "stdout",
     "output_type": "stream",
     "text": [
      "<class 'pandas.core.frame.DataFrame'>\n",
      "RangeIndex: 717 entries, 0 to 716\n",
      "Data columns (total 22 columns):\n",
      " #   Column                 Non-Null Count  Dtype         \n",
      "---  ------                 --------------  -----         \n",
      " 0   ID_hecho               717 non-null    object        \n",
      " 1   FECHA_x                717 non-null    datetime64[ns]\n",
      " 2   AAAA_x                 717 non-null    int64         \n",
      " 3   MM_x                   717 non-null    int64         \n",
      " 4   DD_x                   717 non-null    int64         \n",
      " 5   ROL                    717 non-null    object        \n",
      " 6   VICTIMA_x              717 non-null    object        \n",
      " 7   SEXO                   717 non-null    object        \n",
      " 8   EDAD                   717 non-null    int64         \n",
      " 9   FECHA_FALLECIMIENTO    717 non-null    datetime64[ns]\n",
      " 10  N_VICTIMAS             717 non-null    int64         \n",
      " 11  HH                     717 non-null    int32         \n",
      " 12  LUGAR_DEL_HECHO        717 non-null    object        \n",
      " 13  TIPO_DE_CALLE          717 non-null    object        \n",
      " 14  Dirección Normalizada  708 non-null    object        \n",
      " 15  COMUNA                 717 non-null    int64         \n",
      " 16  pos x                  717 non-null    object        \n",
      " 17  pos y                  717 non-null    object        \n",
      " 18  PARTICIPANTES          717 non-null    object        \n",
      " 19  ACUSADO                717 non-null    object        \n",
      " 20  geo plana X            717 non-null    object        \n",
      " 21  geo plana Y            717 non-null    object        \n",
      "dtypes: datetime64[ns](2), int32(1), int64(6), object(13)\n",
      "memory usage: 120.6+ KB\n"
     ]
    }
   ],
   "source": [
    "hechos_victimas.info()"
   ]
  },
  {
   "cell_type": "markdown",
   "metadata": {},
   "source": [
    "Haremos un rename para facilidad en el manejo de la data y estética"
   ]
  },
  {
   "cell_type": "code",
   "execution_count": 56,
   "metadata": {},
   "outputs": [],
   "source": [
    "rename = {'ID_hecho': 'ID', 'FECHA_x': 'Fecha', 'AAAA_x': 'Año', 'MM_x': 'Mes', 'DD_x': 'Dia', 'ROL': 'Rol', 'VICTIMA_x' : 'Victima', 'SEXO': 'Sexo', 'EDAD': 'Edad', 'FECHA_FALLECIMIENTO': 'Fecha_Fallecimiento', 'N_VICTIMAS': 'Numero_Victimas', 'HH': 'Franja_Horaria', 'LUGAR_DEL_HECHO': 'Lugar_Del_Hecho', 'TIPO_DE_CALLE': 'Tipo_de_Calle', 'Dirección Normalizada':'Dirección_Normalizada', 'COMUNA':'Comuna', 'pos x': 'Longitud', 'pos y': 'Latitud', 'PARTICIPANTES': 'Participantes', 'ACUSADO': 'Acusado', 'geo plana X': 'Longitud_Plana', 'geo plana Y': 'Latitud_Plana'  }\n",
    "hechos_victimas = hechos_victimas.rename(columns=rename)"
   ]
  },
  {
   "cell_type": "code",
   "execution_count": 57,
   "metadata": {},
   "outputs": [
    {
     "name": "stdout",
     "output_type": "stream",
     "text": [
      "<class 'pandas.core.frame.DataFrame'>\n",
      "RangeIndex: 717 entries, 0 to 716\n",
      "Data columns (total 22 columns):\n",
      " #   Column                 Non-Null Count  Dtype         \n",
      "---  ------                 --------------  -----         \n",
      " 0   ID                     717 non-null    object        \n",
      " 1   Fecha                  717 non-null    datetime64[ns]\n",
      " 2   Año                    717 non-null    int64         \n",
      " 3   Mes                    717 non-null    int64         \n",
      " 4   Dia                    717 non-null    int64         \n",
      " 5   Rol                    717 non-null    object        \n",
      " 6   Victima                717 non-null    object        \n",
      " 7   Sexo                   717 non-null    object        \n",
      " 8   Edad                   717 non-null    int64         \n",
      " 9   Fecha_Fallecimiento    717 non-null    datetime64[ns]\n",
      " 10  Numero_Victimas        717 non-null    int64         \n",
      " 11  Franja_Horaria         717 non-null    int32         \n",
      " 12  Lugar_Del_Hecho        717 non-null    object        \n",
      " 13  Tipo_de_Calle          717 non-null    object        \n",
      " 14  Dirección_Normalizada  708 non-null    object        \n",
      " 15  Comuna                 717 non-null    int64         \n",
      " 16  Longitud               717 non-null    object        \n",
      " 17  Latitud                717 non-null    object        \n",
      " 18  Participantes          717 non-null    object        \n",
      " 19  Acusado                717 non-null    object        \n",
      " 20  Longitud_Plana         717 non-null    object        \n",
      " 21  Latitud_Plana          717 non-null    object        \n",
      "dtypes: datetime64[ns](2), int32(1), int64(6), object(13)\n",
      "memory usage: 120.6+ KB\n"
     ]
    }
   ],
   "source": [
    "hechos_victimas.info()"
   ]
  },
  {
   "cell_type": "markdown",
   "metadata": {},
   "source": [
    "Eliminaremos la longitud_plana y latitud_plana pues no es la que usa PowerBi en sus tipos de mapas"
   ]
  },
  {
   "cell_type": "code",
   "execution_count": 58,
   "metadata": {},
   "outputs": [],
   "source": [
    "hechos_victimas.drop(columns=['Longitud_Plana', 'Latitud_Plana'], inplace=True)"
   ]
  },
  {
   "cell_type": "code",
   "execution_count": 59,
   "metadata": {},
   "outputs": [
    {
     "name": "stdout",
     "output_type": "stream",
     "text": [
      "<class 'pandas.core.frame.DataFrame'>\n",
      "RangeIndex: 717 entries, 0 to 716\n",
      "Data columns (total 20 columns):\n",
      " #   Column                 Non-Null Count  Dtype         \n",
      "---  ------                 --------------  -----         \n",
      " 0   ID                     717 non-null    object        \n",
      " 1   Fecha                  717 non-null    datetime64[ns]\n",
      " 2   Año                    717 non-null    int64         \n",
      " 3   Mes                    717 non-null    int64         \n",
      " 4   Dia                    717 non-null    int64         \n",
      " 5   Rol                    717 non-null    object        \n",
      " 6   Victima                717 non-null    object        \n",
      " 7   Sexo                   717 non-null    object        \n",
      " 8   Edad                   717 non-null    int64         \n",
      " 9   Fecha_Fallecimiento    717 non-null    datetime64[ns]\n",
      " 10  Numero_Victimas        717 non-null    int64         \n",
      " 11  Franja_Horaria         717 non-null    int32         \n",
      " 12  Lugar_Del_Hecho        717 non-null    object        \n",
      " 13  Tipo_de_Calle          717 non-null    object        \n",
      " 14  Dirección_Normalizada  708 non-null    object        \n",
      " 15  Comuna                 717 non-null    int64         \n",
      " 16  Longitud               717 non-null    object        \n",
      " 17  Latitud                717 non-null    object        \n",
      " 18  Participantes          717 non-null    object        \n",
      " 19  Acusado                717 non-null    object        \n",
      "dtypes: datetime64[ns](2), int32(1), int64(6), object(11)\n",
      "memory usage: 109.4+ KB\n"
     ]
    }
   ],
   "source": [
    "hechos_victimas.info()"
   ]
  },
  {
   "cell_type": "markdown",
   "metadata": {},
   "source": [
    "Vamos a revisar la columna acusado comparándola con participantes, rol y víctima"
   ]
  },
  {
   "cell_type": "code",
   "execution_count": 60,
   "metadata": {},
   "outputs": [
    {
     "data": {
      "text/plain": [
       "Acusado\n",
       "AUTO           210\n",
       "PASAJEROS      178\n",
       "CARGAS         150\n",
       "OBJETO FIJO     67\n",
       "MOTO            58\n",
       "SD              23\n",
       "MULTIPLE        17\n",
       "BICICLETA        7\n",
       "OTRO             6\n",
       "TREN             1\n",
       "Name: count, dtype: int64"
      ]
     },
     "execution_count": 60,
     "metadata": {},
     "output_type": "execute_result"
    }
   ],
   "source": [
    "a = hechos_victimas['Acusado'].value_counts()\n",
    "a"
   ]
  },
  {
   "cell_type": "markdown",
   "metadata": {},
   "source": [
    "Vamos a explorar los SD, como podemos observar la dinámica de la columna participantes es que como dato inicial esta la víctima y como dato final el acusado"
   ]
  },
  {
   "cell_type": "code",
   "execution_count": 61,
   "metadata": {},
   "outputs": [
    {
     "data": {
      "text/html": [
       "<div>\n",
       "<style scoped>\n",
       "    .dataframe tbody tr th:only-of-type {\n",
       "        vertical-align: middle;\n",
       "    }\n",
       "\n",
       "    .dataframe tbody tr th {\n",
       "        vertical-align: top;\n",
       "    }\n",
       "\n",
       "    .dataframe thead th {\n",
       "        text-align: right;\n",
       "    }\n",
       "</style>\n",
       "<table border=\"1\" class=\"dataframe\">\n",
       "  <thead>\n",
       "    <tr style=\"text-align: right;\">\n",
       "      <th></th>\n",
       "      <th>Acusado</th>\n",
       "      <th>Participantes</th>\n",
       "      <th>Rol</th>\n",
       "      <th>Victima</th>\n",
       "    </tr>\n",
       "  </thead>\n",
       "  <tbody>\n",
       "    <tr>\n",
       "      <th>3</th>\n",
       "      <td>SD</td>\n",
       "      <td>MOTO-SD</td>\n",
       "      <td>CONDUCTOR</td>\n",
       "      <td>MOTO</td>\n",
       "    </tr>\n",
       "    <tr>\n",
       "      <th>33</th>\n",
       "      <td>SD</td>\n",
       "      <td>MOTO-SD</td>\n",
       "      <td>CONDUCTOR</td>\n",
       "      <td>MOTO</td>\n",
       "    </tr>\n",
       "    <tr>\n",
       "      <th>36</th>\n",
       "      <td>SD</td>\n",
       "      <td>SD-SD</td>\n",
       "      <td>CONDUCTOR</td>\n",
       "      <td>MOTO</td>\n",
       "    </tr>\n",
       "    <tr>\n",
       "      <th>39</th>\n",
       "      <td>SD</td>\n",
       "      <td>MOTO-SD</td>\n",
       "      <td>CONDUCTOR</td>\n",
       "      <td>MOTO</td>\n",
       "    </tr>\n",
       "    <tr>\n",
       "      <th>58</th>\n",
       "      <td>SD</td>\n",
       "      <td>AUTO-SD</td>\n",
       "      <td>CONDUCTOR</td>\n",
       "      <td>AUTO</td>\n",
       "    </tr>\n",
       "    <tr>\n",
       "      <th>77</th>\n",
       "      <td>SD</td>\n",
       "      <td>SD-SD</td>\n",
       "      <td>CONDUCTOR</td>\n",
       "      <td>MOTO</td>\n",
       "    </tr>\n",
       "    <tr>\n",
       "      <th>84</th>\n",
       "      <td>SD</td>\n",
       "      <td>PEATON-SD</td>\n",
       "      <td>PEATON</td>\n",
       "      <td>PEATON</td>\n",
       "    </tr>\n",
       "    <tr>\n",
       "      <th>93</th>\n",
       "      <td>SD</td>\n",
       "      <td>SD-SD</td>\n",
       "      <td>PASAJERO_ACOMPAÑANTE</td>\n",
       "      <td>MOTO</td>\n",
       "    </tr>\n",
       "    <tr>\n",
       "      <th>107</th>\n",
       "      <td>SD</td>\n",
       "      <td>PEATON-SD</td>\n",
       "      <td>PEATON</td>\n",
       "      <td>PEATON</td>\n",
       "    </tr>\n",
       "    <tr>\n",
       "      <th>114</th>\n",
       "      <td>SD</td>\n",
       "      <td>MOTO-SD</td>\n",
       "      <td>CONDUCTOR</td>\n",
       "      <td>MOTO</td>\n",
       "    </tr>\n",
       "    <tr>\n",
       "      <th>121</th>\n",
       "      <td>SD</td>\n",
       "      <td>PEATON-SD</td>\n",
       "      <td>PEATON</td>\n",
       "      <td>PEATON</td>\n",
       "    </tr>\n",
       "    <tr>\n",
       "      <th>128</th>\n",
       "      <td>SD</td>\n",
       "      <td>AUTO-SD</td>\n",
       "      <td>CONDUCTOR</td>\n",
       "      <td>AUTO</td>\n",
       "    </tr>\n",
       "    <tr>\n",
       "      <th>141</th>\n",
       "      <td>SD</td>\n",
       "      <td>SD-SD</td>\n",
       "      <td>CONDUCTOR</td>\n",
       "      <td>MOTO</td>\n",
       "    </tr>\n",
       "    <tr>\n",
       "      <th>162</th>\n",
       "      <td>SD</td>\n",
       "      <td>MOTO-SD</td>\n",
       "      <td>CONDUCTOR</td>\n",
       "      <td>MOTO</td>\n",
       "    </tr>\n",
       "    <tr>\n",
       "      <th>204</th>\n",
       "      <td>SD</td>\n",
       "      <td>MOTO-SD</td>\n",
       "      <td>CONDUCTOR</td>\n",
       "      <td>MOTO</td>\n",
       "    </tr>\n",
       "    <tr>\n",
       "      <th>208</th>\n",
       "      <td>SD</td>\n",
       "      <td>SD-SD</td>\n",
       "      <td>CONDUCTOR</td>\n",
       "      <td>MOTO</td>\n",
       "    </tr>\n",
       "    <tr>\n",
       "      <th>223</th>\n",
       "      <td>SD</td>\n",
       "      <td>MOTO-SD</td>\n",
       "      <td>CONDUCTOR</td>\n",
       "      <td>MOTO</td>\n",
       "    </tr>\n",
       "    <tr>\n",
       "      <th>409</th>\n",
       "      <td>SD</td>\n",
       "      <td>PEATON-SD</td>\n",
       "      <td>PEATON</td>\n",
       "      <td>PEATON</td>\n",
       "    </tr>\n",
       "    <tr>\n",
       "      <th>413</th>\n",
       "      <td>SD</td>\n",
       "      <td>AUTO-SD</td>\n",
       "      <td>CONDUCTOR</td>\n",
       "      <td>AUTO</td>\n",
       "    </tr>\n",
       "    <tr>\n",
       "      <th>457</th>\n",
       "      <td>SD</td>\n",
       "      <td>AUTO-SD</td>\n",
       "      <td>PASAJERO_ACOMPAÑANTE</td>\n",
       "      <td>AUTO</td>\n",
       "    </tr>\n",
       "    <tr>\n",
       "      <th>468</th>\n",
       "      <td>SD</td>\n",
       "      <td>MOTO-SD</td>\n",
       "      <td>CONDUCTOR</td>\n",
       "      <td>MOTO</td>\n",
       "    </tr>\n",
       "    <tr>\n",
       "      <th>476</th>\n",
       "      <td>SD</td>\n",
       "      <td>MOTO-SD</td>\n",
       "      <td>CONDUCTOR</td>\n",
       "      <td>MOTO</td>\n",
       "    </tr>\n",
       "    <tr>\n",
       "      <th>641</th>\n",
       "      <td>SD</td>\n",
       "      <td>PASAJEROS-SD</td>\n",
       "      <td>PASAJERO_ACOMPAÑANTE</td>\n",
       "      <td>PASAJEROS</td>\n",
       "    </tr>\n",
       "  </tbody>\n",
       "</table>\n",
       "</div>"
      ],
      "text/plain": [
       "    Acusado Participantes                   Rol    Victima\n",
       "3        SD       MOTO-SD             CONDUCTOR       MOTO\n",
       "33       SD       MOTO-SD             CONDUCTOR       MOTO\n",
       "36       SD         SD-SD             CONDUCTOR       MOTO\n",
       "39       SD       MOTO-SD             CONDUCTOR       MOTO\n",
       "58       SD       AUTO-SD             CONDUCTOR       AUTO\n",
       "77       SD         SD-SD             CONDUCTOR       MOTO\n",
       "84       SD     PEATON-SD                PEATON     PEATON\n",
       "93       SD         SD-SD  PASAJERO_ACOMPAÑANTE       MOTO\n",
       "107      SD     PEATON-SD                PEATON     PEATON\n",
       "114      SD       MOTO-SD             CONDUCTOR       MOTO\n",
       "121      SD     PEATON-SD                PEATON     PEATON\n",
       "128      SD       AUTO-SD             CONDUCTOR       AUTO\n",
       "141      SD         SD-SD             CONDUCTOR       MOTO\n",
       "162      SD       MOTO-SD             CONDUCTOR       MOTO\n",
       "204      SD       MOTO-SD             CONDUCTOR       MOTO\n",
       "208      SD         SD-SD             CONDUCTOR       MOTO\n",
       "223      SD       MOTO-SD             CONDUCTOR       MOTO\n",
       "409      SD     PEATON-SD                PEATON     PEATON\n",
       "413      SD       AUTO-SD             CONDUCTOR       AUTO\n",
       "457      SD       AUTO-SD  PASAJERO_ACOMPAÑANTE       AUTO\n",
       "468      SD       MOTO-SD             CONDUCTOR       MOTO\n",
       "476      SD       MOTO-SD             CONDUCTOR       MOTO\n",
       "641      SD  PASAJEROS-SD  PASAJERO_ACOMPAÑANTE  PASAJEROS"
      ]
     },
     "execution_count": 61,
     "metadata": {},
     "output_type": "execute_result"
    }
   ],
   "source": [
    "filtro = hechos_victimas[hechos_victimas['Acusado'] == 'SD']\n",
    "filtro = filtro[['Acusado', 'Participantes', 'Rol', 'Victima']]\n",
    "filtro"
   ]
  },
  {
   "cell_type": "markdown",
   "metadata": {},
   "source": [
    "Basados en lo anterior, y sabiendo que en la mayoría de los casos la culpabilidad la tiene el AUTO y analizando los tipos de víctimas para los casos donde no conocemos el acusado, podemos inferir que en gran parte esos accidentes de debieron a un auto. Procederemos a imputar en la columna acusado para los 25 casos faltantes como responsable el AUTO."
   ]
  },
  {
   "cell_type": "code",
   "execution_count": 62,
   "metadata": {},
   "outputs": [],
   "source": [
    "hechos_victimas['Acusado'] = hechos_victimas['Acusado'].replace('SD', 'AUTO')"
   ]
  },
  {
   "cell_type": "code",
   "execution_count": 63,
   "metadata": {},
   "outputs": [
    {
     "data": {
      "text/html": [
       "<div>\n",
       "<style scoped>\n",
       "    .dataframe tbody tr th:only-of-type {\n",
       "        vertical-align: middle;\n",
       "    }\n",
       "\n",
       "    .dataframe tbody tr th {\n",
       "        vertical-align: top;\n",
       "    }\n",
       "\n",
       "    .dataframe thead th {\n",
       "        text-align: right;\n",
       "    }\n",
       "</style>\n",
       "<table border=\"1\" class=\"dataframe\">\n",
       "  <thead>\n",
       "    <tr style=\"text-align: right;\">\n",
       "      <th></th>\n",
       "      <th>Acusado</th>\n",
       "      <th>Participantes</th>\n",
       "      <th>Rol</th>\n",
       "      <th>Victima</th>\n",
       "    </tr>\n",
       "  </thead>\n",
       "  <tbody>\n",
       "  </tbody>\n",
       "</table>\n",
       "</div>"
      ],
      "text/plain": [
       "Empty DataFrame\n",
       "Columns: [Acusado, Participantes, Rol, Victima]\n",
       "Index: []"
      ]
     },
     "execution_count": 63,
     "metadata": {},
     "output_type": "execute_result"
    }
   ],
   "source": [
    "filtro = hechos_victimas[hechos_victimas['Acusado'] == 'SD']\n",
    "filtro = filtro[['Acusado', 'Participantes', 'Rol', 'Victima']]\n",
    "filtro"
   ]
  },
  {
   "cell_type": "markdown",
   "metadata": {},
   "source": [
    "En las columnas latitud y longitud identificamos celdas que a pesar de no estar vacías únicamente contienen un punto, vamos a reemplazar el mismo por un espacio vacío. No las eliminaremos pues a pesar de no tener la ubicación exacta del accidente no quiero afectar el conteo ni distribución de otras variables"
   ]
  },
  {
   "cell_type": "code",
   "execution_count": 64,
   "metadata": {},
   "outputs": [
    {
     "data": {
      "text/html": [
       "<div>\n",
       "<style scoped>\n",
       "    .dataframe tbody tr th:only-of-type {\n",
       "        vertical-align: middle;\n",
       "    }\n",
       "\n",
       "    .dataframe tbody tr th {\n",
       "        vertical-align: top;\n",
       "    }\n",
       "\n",
       "    .dataframe thead th {\n",
       "        text-align: right;\n",
       "    }\n",
       "</style>\n",
       "<table border=\"1\" class=\"dataframe\">\n",
       "  <thead>\n",
       "    <tr style=\"text-align: right;\">\n",
       "      <th></th>\n",
       "      <th>ID</th>\n",
       "      <th>Fecha</th>\n",
       "      <th>Año</th>\n",
       "      <th>Mes</th>\n",
       "      <th>Dia</th>\n",
       "      <th>Rol</th>\n",
       "      <th>Victima</th>\n",
       "      <th>Sexo</th>\n",
       "      <th>Edad</th>\n",
       "      <th>Fecha_Fallecimiento</th>\n",
       "      <th>Numero_Victimas</th>\n",
       "      <th>Franja_Horaria</th>\n",
       "      <th>Lugar_Del_Hecho</th>\n",
       "      <th>Tipo_de_Calle</th>\n",
       "      <th>Dirección_Normalizada</th>\n",
       "      <th>Comuna</th>\n",
       "      <th>Longitud</th>\n",
       "      <th>Latitud</th>\n",
       "      <th>Participantes</th>\n",
       "      <th>Acusado</th>\n",
       "    </tr>\n",
       "  </thead>\n",
       "  <tbody>\n",
       "    <tr>\n",
       "      <th>39</th>\n",
       "      <td>2016-0052</td>\n",
       "      <td>2016-04-20</td>\n",
       "      <td>2016</td>\n",
       "      <td>4</td>\n",
       "      <td>20</td>\n",
       "      <td>CONDUCTOR</td>\n",
       "      <td>MOTO</td>\n",
       "      <td>MASCULINO</td>\n",
       "      <td>40</td>\n",
       "      <td>2016-04-20</td>\n",
       "      <td>1</td>\n",
       "      <td>20</td>\n",
       "      <td>AUTOPISTA LUGONES PK 10000</td>\n",
       "      <td>AUTOPISTA</td>\n",
       "      <td>NaN</td>\n",
       "      <td>13</td>\n",
       "      <td>.</td>\n",
       "      <td>.</td>\n",
       "      <td>MOTO-SD</td>\n",
       "      <td>AUTO</td>\n",
       "    </tr>\n",
       "    <tr>\n",
       "      <th>108</th>\n",
       "      <td>2016-0136</td>\n",
       "      <td>2016-10-25</td>\n",
       "      <td>2016</td>\n",
       "      <td>10</td>\n",
       "      <td>25</td>\n",
       "      <td>CONDUCTOR</td>\n",
       "      <td>MOTO</td>\n",
       "      <td>MASCULINO</td>\n",
       "      <td>40</td>\n",
       "      <td>2016-10-25</td>\n",
       "      <td>1</td>\n",
       "      <td>0</td>\n",
       "      <td>AU BUENOS AIRES - LA PLATA KM. 4</td>\n",
       "      <td>AUTOPISTA</td>\n",
       "      <td>NaN</td>\n",
       "      <td>4</td>\n",
       "      <td>.</td>\n",
       "      <td>.</td>\n",
       "      <td>MOTO-CARGAS</td>\n",
       "      <td>CARGAS</td>\n",
       "    </tr>\n",
       "    <tr>\n",
       "      <th>121</th>\n",
       "      <td>2016-0151</td>\n",
       "      <td>2016-11-18</td>\n",
       "      <td>2016</td>\n",
       "      <td>11</td>\n",
       "      <td>18</td>\n",
       "      <td>PEATON</td>\n",
       "      <td>PEATON</td>\n",
       "      <td>MASCULINO</td>\n",
       "      <td>40</td>\n",
       "      <td>2016-11-18</td>\n",
       "      <td>1</td>\n",
       "      <td>20</td>\n",
       "      <td>SD</td>\n",
       "      <td>CALLE</td>\n",
       "      <td>NaN</td>\n",
       "      <td>0</td>\n",
       "      <td>.</td>\n",
       "      <td>.</td>\n",
       "      <td>PEATON-SD</td>\n",
       "      <td>AUTO</td>\n",
       "    </tr>\n",
       "    <tr>\n",
       "      <th>141</th>\n",
       "      <td>2016-0174</td>\n",
       "      <td>2016-12-27</td>\n",
       "      <td>2016</td>\n",
       "      <td>12</td>\n",
       "      <td>27</td>\n",
       "      <td>CONDUCTOR</td>\n",
       "      <td>MOTO</td>\n",
       "      <td>MASCULINO</td>\n",
       "      <td>40</td>\n",
       "      <td>2016-12-27</td>\n",
       "      <td>1</td>\n",
       "      <td>0</td>\n",
       "      <td>AUTOPISTA 25 DE MAYO</td>\n",
       "      <td>AUTOPISTA</td>\n",
       "      <td>AUTOPISTA 25 DE MAYO</td>\n",
       "      <td>0</td>\n",
       "      <td>.</td>\n",
       "      <td>.</td>\n",
       "      <td>SD-SD</td>\n",
       "      <td>AUTO</td>\n",
       "    </tr>\n",
       "    <tr>\n",
       "      <th>182</th>\n",
       "      <td>2017-0042</td>\n",
       "      <td>2017-04-10</td>\n",
       "      <td>2017</td>\n",
       "      <td>4</td>\n",
       "      <td>10</td>\n",
       "      <td>CONDUCTOR</td>\n",
       "      <td>MOTO</td>\n",
       "      <td>MASCULINO</td>\n",
       "      <td>40</td>\n",
       "      <td>2017-04-10</td>\n",
       "      <td>1</td>\n",
       "      <td>9</td>\n",
       "      <td>AV. LEOPOLDO LUGONES PKM 6900</td>\n",
       "      <td>GRAL PAZ</td>\n",
       "      <td>LUGONES, LEOPOLDO AV.</td>\n",
       "      <td>14</td>\n",
       "      <td>.</td>\n",
       "      <td>.</td>\n",
       "      <td>MOTO-CARGAS</td>\n",
       "      <td>CARGAS</td>\n",
       "    </tr>\n",
       "    <tr>\n",
       "      <th>186</th>\n",
       "      <td>2017-0050</td>\n",
       "      <td>2017-04-28</td>\n",
       "      <td>2017</td>\n",
       "      <td>4</td>\n",
       "      <td>28</td>\n",
       "      <td>CONDUCTOR</td>\n",
       "      <td>MOTO</td>\n",
       "      <td>MASCULINO</td>\n",
       "      <td>46</td>\n",
       "      <td>2017-04-28</td>\n",
       "      <td>2</td>\n",
       "      <td>11</td>\n",
       "      <td>AU PERITO MORENO Y RAMAL ENLACE AU1/AU6</td>\n",
       "      <td>AUTOPISTA</td>\n",
       "      <td>NaN</td>\n",
       "      <td>9</td>\n",
       "      <td>.</td>\n",
       "      <td>.</td>\n",
       "      <td>MOTO-CARGAS</td>\n",
       "      <td>CARGAS</td>\n",
       "    </tr>\n",
       "    <tr>\n",
       "      <th>187</th>\n",
       "      <td>2017-0050</td>\n",
       "      <td>2017-04-28</td>\n",
       "      <td>2017</td>\n",
       "      <td>4</td>\n",
       "      <td>28</td>\n",
       "      <td>PASAJERO_ACOMPAÑANTE</td>\n",
       "      <td>MOTO</td>\n",
       "      <td>MASCULINO</td>\n",
       "      <td>16</td>\n",
       "      <td>2017-04-28</td>\n",
       "      <td>2</td>\n",
       "      <td>11</td>\n",
       "      <td>AU PERITO MORENO Y RAMAL ENLACE AU1/AU6</td>\n",
       "      <td>AUTOPISTA</td>\n",
       "      <td>NaN</td>\n",
       "      <td>9</td>\n",
       "      <td>.</td>\n",
       "      <td>.</td>\n",
       "      <td>MOTO-CARGAS</td>\n",
       "      <td>CARGAS</td>\n",
       "    </tr>\n",
       "    <tr>\n",
       "      <th>188</th>\n",
       "      <td>2017-0051</td>\n",
       "      <td>2017-05-01</td>\n",
       "      <td>2017</td>\n",
       "      <td>5</td>\n",
       "      <td>1</td>\n",
       "      <td>CONDUCTOR</td>\n",
       "      <td>AUTO</td>\n",
       "      <td>MASCULINO</td>\n",
       "      <td>33</td>\n",
       "      <td>2017-05-01</td>\n",
       "      <td>1</td>\n",
       "      <td>3</td>\n",
       "      <td>AU DELLEPIANE 2400</td>\n",
       "      <td>AUTOPISTA</td>\n",
       "      <td>NaN</td>\n",
       "      <td>7</td>\n",
       "      <td>.</td>\n",
       "      <td>.</td>\n",
       "      <td>AUTO-AUTO</td>\n",
       "      <td>AUTO</td>\n",
       "    </tr>\n",
       "    <tr>\n",
       "      <th>266</th>\n",
       "      <td>2017-0140</td>\n",
       "      <td>2017-11-19</td>\n",
       "      <td>2017</td>\n",
       "      <td>11</td>\n",
       "      <td>19</td>\n",
       "      <td>CONDUCTOR</td>\n",
       "      <td>MOTO</td>\n",
       "      <td>MASCULINO</td>\n",
       "      <td>24</td>\n",
       "      <td>2017-11-19</td>\n",
       "      <td>1</td>\n",
       "      <td>23</td>\n",
       "      <td>AU ARTURO FRONDIZI PKM 3100</td>\n",
       "      <td>AUTOPISTA</td>\n",
       "      <td>AUTOPISTA 1 SUR PRESIDENTE ARTURO FRONDIZI</td>\n",
       "      <td>4</td>\n",
       "      <td>.</td>\n",
       "      <td>.</td>\n",
       "      <td>MOTO-PASAJEROS</td>\n",
       "      <td>PASAJEROS</td>\n",
       "    </tr>\n",
       "    <tr>\n",
       "      <th>327</th>\n",
       "      <td>2018-0039</td>\n",
       "      <td>2018-04-21</td>\n",
       "      <td>2018</td>\n",
       "      <td>4</td>\n",
       "      <td>21</td>\n",
       "      <td>PEATON</td>\n",
       "      <td>PEATON</td>\n",
       "      <td>MASCULINO</td>\n",
       "      <td>37</td>\n",
       "      <td>2018-04-21</td>\n",
       "      <td>1</td>\n",
       "      <td>22</td>\n",
       "      <td>AUTOPISTA LUGONES KM 4.7</td>\n",
       "      <td>AUTOPISTA</td>\n",
       "      <td>NaN</td>\n",
       "      <td>14</td>\n",
       "      <td>.</td>\n",
       "      <td>.</td>\n",
       "      <td>PEATON-AUTO</td>\n",
       "      <td>AUTO</td>\n",
       "    </tr>\n",
       "    <tr>\n",
       "      <th>564</th>\n",
       "      <td>2020-0026</td>\n",
       "      <td>2020-05-17</td>\n",
       "      <td>2020</td>\n",
       "      <td>5</td>\n",
       "      <td>17</td>\n",
       "      <td>CONDUCTOR</td>\n",
       "      <td>MOTO</td>\n",
       "      <td>MASCULINO</td>\n",
       "      <td>28</td>\n",
       "      <td>2020-05-17</td>\n",
       "      <td>1</td>\n",
       "      <td>6</td>\n",
       "      <td>LUGONES, LEOPOLDO AV. KM 6,1</td>\n",
       "      <td>AUTOPISTA</td>\n",
       "      <td>NaN</td>\n",
       "      <td>14</td>\n",
       "      <td>.</td>\n",
       "      <td>.</td>\n",
       "      <td>MOTO-OBJETO FIJO</td>\n",
       "      <td>OBJETO FIJO</td>\n",
       "    </tr>\n",
       "    <tr>\n",
       "      <th>578</th>\n",
       "      <td>2020-0039</td>\n",
       "      <td>2020-09-01</td>\n",
       "      <td>2020</td>\n",
       "      <td>9</td>\n",
       "      <td>1</td>\n",
       "      <td>PEATON</td>\n",
       "      <td>PEATON</td>\n",
       "      <td>MASCULINO</td>\n",
       "      <td>44</td>\n",
       "      <td>2020-09-01</td>\n",
       "      <td>1</td>\n",
       "      <td>19</td>\n",
       "      <td>MURGUIONDO 2700</td>\n",
       "      <td>CALLE</td>\n",
       "      <td>MURGUIONDO</td>\n",
       "      <td>9</td>\n",
       "      <td>.</td>\n",
       "      <td>.</td>\n",
       "      <td>PEATON-CARGAS</td>\n",
       "      <td>CARGAS</td>\n",
       "    </tr>\n",
       "    <tr>\n",
       "      <th>642</th>\n",
       "      <td>2021-0023</td>\n",
       "      <td>2021-03-01</td>\n",
       "      <td>2021</td>\n",
       "      <td>3</td>\n",
       "      <td>1</td>\n",
       "      <td>CONDUCTOR</td>\n",
       "      <td>MOTO</td>\n",
       "      <td>MASCULINO</td>\n",
       "      <td>24</td>\n",
       "      <td>2021-03-01</td>\n",
       "      <td>1</td>\n",
       "      <td>9</td>\n",
       "      <td>AU BUENOS AIRES LA PLATA  KM 4,5</td>\n",
       "      <td>AUTOPISTA</td>\n",
       "      <td>NaN</td>\n",
       "      <td>4</td>\n",
       "      <td>.</td>\n",
       "      <td>.</td>\n",
       "      <td>MOTO-CARGAS</td>\n",
       "      <td>CARGAS</td>\n",
       "    </tr>\n",
       "  </tbody>\n",
       "</table>\n",
       "</div>"
      ],
      "text/plain": [
       "            ID      Fecha   Año  Mes  Dia                   Rol Victima  \\\n",
       "39   2016-0052 2016-04-20  2016    4   20             CONDUCTOR    MOTO   \n",
       "108  2016-0136 2016-10-25  2016   10   25             CONDUCTOR    MOTO   \n",
       "121  2016-0151 2016-11-18  2016   11   18                PEATON  PEATON   \n",
       "141  2016-0174 2016-12-27  2016   12   27             CONDUCTOR    MOTO   \n",
       "182  2017-0042 2017-04-10  2017    4   10             CONDUCTOR    MOTO   \n",
       "186  2017-0050 2017-04-28  2017    4   28             CONDUCTOR    MOTO   \n",
       "187  2017-0050 2017-04-28  2017    4   28  PASAJERO_ACOMPAÑANTE    MOTO   \n",
       "188  2017-0051 2017-05-01  2017    5    1             CONDUCTOR    AUTO   \n",
       "266  2017-0140 2017-11-19  2017   11   19             CONDUCTOR    MOTO   \n",
       "327  2018-0039 2018-04-21  2018    4   21                PEATON  PEATON   \n",
       "564  2020-0026 2020-05-17  2020    5   17             CONDUCTOR    MOTO   \n",
       "578  2020-0039 2020-09-01  2020    9    1                PEATON  PEATON   \n",
       "642  2021-0023 2021-03-01  2021    3    1             CONDUCTOR    MOTO   \n",
       "\n",
       "          Sexo  Edad Fecha_Fallecimiento  Numero_Victimas  Franja_Horaria  \\\n",
       "39   MASCULINO    40          2016-04-20                1              20   \n",
       "108  MASCULINO    40          2016-10-25                1               0   \n",
       "121  MASCULINO    40          2016-11-18                1              20   \n",
       "141  MASCULINO    40          2016-12-27                1               0   \n",
       "182  MASCULINO    40          2017-04-10                1               9   \n",
       "186  MASCULINO    46          2017-04-28                2              11   \n",
       "187  MASCULINO    16          2017-04-28                2              11   \n",
       "188  MASCULINO    33          2017-05-01                1               3   \n",
       "266  MASCULINO    24          2017-11-19                1              23   \n",
       "327  MASCULINO    37          2018-04-21                1              22   \n",
       "564  MASCULINO    28          2020-05-17                1               6   \n",
       "578  MASCULINO    44          2020-09-01                1              19   \n",
       "642  MASCULINO    24          2021-03-01                1               9   \n",
       "\n",
       "                             Lugar_Del_Hecho Tipo_de_Calle  \\\n",
       "39                AUTOPISTA LUGONES PK 10000     AUTOPISTA   \n",
       "108         AU BUENOS AIRES - LA PLATA KM. 4     AUTOPISTA   \n",
       "121                                       SD         CALLE   \n",
       "141                     AUTOPISTA 25 DE MAYO     AUTOPISTA   \n",
       "182            AV. LEOPOLDO LUGONES PKM 6900      GRAL PAZ   \n",
       "186  AU PERITO MORENO Y RAMAL ENLACE AU1/AU6     AUTOPISTA   \n",
       "187  AU PERITO MORENO Y RAMAL ENLACE AU1/AU6     AUTOPISTA   \n",
       "188                       AU DELLEPIANE 2400     AUTOPISTA   \n",
       "266              AU ARTURO FRONDIZI PKM 3100     AUTOPISTA   \n",
       "327                 AUTOPISTA LUGONES KM 4.7     AUTOPISTA   \n",
       "564             LUGONES, LEOPOLDO AV. KM 6,1     AUTOPISTA   \n",
       "578                          MURGUIONDO 2700         CALLE   \n",
       "642         AU BUENOS AIRES LA PLATA  KM 4,5     AUTOPISTA   \n",
       "\n",
       "                          Dirección_Normalizada  Comuna Longitud Latitud  \\\n",
       "39                                          NaN      13        .       .   \n",
       "108                                         NaN       4        .       .   \n",
       "121                                         NaN       0        .       .   \n",
       "141                        AUTOPISTA 25 DE MAYO       0        .       .   \n",
       "182                       LUGONES, LEOPOLDO AV.      14        .       .   \n",
       "186                                         NaN       9        .       .   \n",
       "187                                         NaN       9        .       .   \n",
       "188                                         NaN       7        .       .   \n",
       "266  AUTOPISTA 1 SUR PRESIDENTE ARTURO FRONDIZI       4        .       .   \n",
       "327                                         NaN      14        .       .   \n",
       "564                                         NaN      14        .       .   \n",
       "578                                  MURGUIONDO       9        .       .   \n",
       "642                                         NaN       4        .       .   \n",
       "\n",
       "        Participantes      Acusado  \n",
       "39            MOTO-SD         AUTO  \n",
       "108       MOTO-CARGAS       CARGAS  \n",
       "121         PEATON-SD         AUTO  \n",
       "141             SD-SD         AUTO  \n",
       "182       MOTO-CARGAS       CARGAS  \n",
       "186       MOTO-CARGAS       CARGAS  \n",
       "187       MOTO-CARGAS       CARGAS  \n",
       "188         AUTO-AUTO         AUTO  \n",
       "266    MOTO-PASAJEROS    PASAJEROS  \n",
       "327       PEATON-AUTO         AUTO  \n",
       "564  MOTO-OBJETO FIJO  OBJETO FIJO  \n",
       "578     PEATON-CARGAS       CARGAS  \n",
       "642       MOTO-CARGAS       CARGAS  "
      ]
     },
     "execution_count": 64,
     "metadata": {},
     "output_type": "execute_result"
    }
   ],
   "source": [
    "filtro = hechos_victimas[hechos_victimas['Latitud'] == '.']\n",
    "filtro"
   ]
  },
  {
   "cell_type": "code",
   "execution_count": 65,
   "metadata": {},
   "outputs": [
    {
     "data": {
      "text/html": [
       "<div>\n",
       "<style scoped>\n",
       "    .dataframe tbody tr th:only-of-type {\n",
       "        vertical-align: middle;\n",
       "    }\n",
       "\n",
       "    .dataframe tbody tr th {\n",
       "        vertical-align: top;\n",
       "    }\n",
       "\n",
       "    .dataframe thead th {\n",
       "        text-align: right;\n",
       "    }\n",
       "</style>\n",
       "<table border=\"1\" class=\"dataframe\">\n",
       "  <thead>\n",
       "    <tr style=\"text-align: right;\">\n",
       "      <th></th>\n",
       "      <th>ID</th>\n",
       "      <th>Fecha</th>\n",
       "      <th>Año</th>\n",
       "      <th>Mes</th>\n",
       "      <th>Dia</th>\n",
       "      <th>Rol</th>\n",
       "      <th>Victima</th>\n",
       "      <th>Sexo</th>\n",
       "      <th>Edad</th>\n",
       "      <th>Fecha_Fallecimiento</th>\n",
       "      <th>Numero_Victimas</th>\n",
       "      <th>Franja_Horaria</th>\n",
       "      <th>Lugar_Del_Hecho</th>\n",
       "      <th>Tipo_de_Calle</th>\n",
       "      <th>Dirección_Normalizada</th>\n",
       "      <th>Comuna</th>\n",
       "      <th>Longitud</th>\n",
       "      <th>Latitud</th>\n",
       "      <th>Participantes</th>\n",
       "      <th>Acusado</th>\n",
       "    </tr>\n",
       "  </thead>\n",
       "  <tbody>\n",
       "  </tbody>\n",
       "</table>\n",
       "</div>"
      ],
      "text/plain": [
       "Empty DataFrame\n",
       "Columns: [ID, Fecha, Año, Mes, Dia, Rol, Victima, Sexo, Edad, Fecha_Fallecimiento, Numero_Victimas, Franja_Horaria, Lugar_Del_Hecho, Tipo_de_Calle, Dirección_Normalizada, Comuna, Longitud, Latitud, Participantes, Acusado]\n",
       "Index: []"
      ]
     },
     "execution_count": 65,
     "metadata": {},
     "output_type": "execute_result"
    }
   ],
   "source": [
    "hechos_victimas['Latitud'] = hechos_victimas['Latitud'].replace('.', '')\n",
    "hechos_victimas['Longitud'] = hechos_victimas['Longitud'].replace('.', '')\n",
    "filtro = hechos_victimas[hechos_victimas['Latitud'] == '.']\n",
    "filtro"
   ]
  },
  {
   "cell_type": "markdown",
   "metadata": {},
   "source": [
    "Crearemos 3 columnas para correspondientes al año, mes y día de fallecimiento"
   ]
  },
  {
   "cell_type": "code",
   "execution_count": 66,
   "metadata": {},
   "outputs": [],
   "source": [
    "hechos_victimas['Fecha_Fallecimiento'] = pd.to_datetime(hechos_victimas['Fecha_Fallecimiento'])\n",
    "hechos_victimas['Año_Fallecimiento'] = hechos_victimas['Fecha_Fallecimiento'].dt.year\n",
    "hechos_victimas['Mes_Fallecimiento'] = hechos_victimas['Fecha_Fallecimiento'].dt.month\n",
    "hechos_victimas['Dia_Fallecimiento'] = hechos_victimas['Fecha_Fallecimiento'].dt.day"
   ]
  },
  {
   "cell_type": "code",
   "execution_count": 67,
   "metadata": {},
   "outputs": [
    {
     "data": {
      "text/html": [
       "<div>\n",
       "<style scoped>\n",
       "    .dataframe tbody tr th:only-of-type {\n",
       "        vertical-align: middle;\n",
       "    }\n",
       "\n",
       "    .dataframe tbody tr th {\n",
       "        vertical-align: top;\n",
       "    }\n",
       "\n",
       "    .dataframe thead th {\n",
       "        text-align: right;\n",
       "    }\n",
       "</style>\n",
       "<table border=\"1\" class=\"dataframe\">\n",
       "  <thead>\n",
       "    <tr style=\"text-align: right;\">\n",
       "      <th></th>\n",
       "      <th>ID</th>\n",
       "      <th>Fecha</th>\n",
       "      <th>Año</th>\n",
       "      <th>Mes</th>\n",
       "      <th>Dia</th>\n",
       "      <th>Rol</th>\n",
       "      <th>Victima</th>\n",
       "      <th>Sexo</th>\n",
       "      <th>Edad</th>\n",
       "      <th>Fecha_Fallecimiento</th>\n",
       "      <th>...</th>\n",
       "      <th>Tipo_de_Calle</th>\n",
       "      <th>Dirección_Normalizada</th>\n",
       "      <th>Comuna</th>\n",
       "      <th>Longitud</th>\n",
       "      <th>Latitud</th>\n",
       "      <th>Participantes</th>\n",
       "      <th>Acusado</th>\n",
       "      <th>Año_Fallecimiento</th>\n",
       "      <th>Mes_Fallecimiento</th>\n",
       "      <th>Dia_Fallecimiento</th>\n",
       "    </tr>\n",
       "  </thead>\n",
       "  <tbody>\n",
       "    <tr>\n",
       "      <th>0</th>\n",
       "      <td>2016-0001</td>\n",
       "      <td>2016-01-01</td>\n",
       "      <td>2016</td>\n",
       "      <td>1</td>\n",
       "      <td>1</td>\n",
       "      <td>CONDUCTOR</td>\n",
       "      <td>MOTO</td>\n",
       "      <td>MASCULINO</td>\n",
       "      <td>19</td>\n",
       "      <td>2016-01-01</td>\n",
       "      <td>...</td>\n",
       "      <td>AVENIDA</td>\n",
       "      <td>PIEDRA BUENA AV. y FERNANDEZ DE LA CRUZ, F., G...</td>\n",
       "      <td>8</td>\n",
       "      <td>-58.47533969</td>\n",
       "      <td>-34.68757022</td>\n",
       "      <td>MOTO-AUTO</td>\n",
       "      <td>AUTO</td>\n",
       "      <td>2016</td>\n",
       "      <td>1</td>\n",
       "      <td>1</td>\n",
       "    </tr>\n",
       "    <tr>\n",
       "      <th>1</th>\n",
       "      <td>2016-0002</td>\n",
       "      <td>2016-01-02</td>\n",
       "      <td>2016</td>\n",
       "      <td>1</td>\n",
       "      <td>2</td>\n",
       "      <td>CONDUCTOR</td>\n",
       "      <td>AUTO</td>\n",
       "      <td>MASCULINO</td>\n",
       "      <td>70</td>\n",
       "      <td>2016-01-02</td>\n",
       "      <td>...</td>\n",
       "      <td>GRAL PAZ</td>\n",
       "      <td>PAZ, GRAL. AV. y DE LOS CORRALES AV.</td>\n",
       "      <td>9</td>\n",
       "      <td>-58.50877521</td>\n",
       "      <td>-34.66977709</td>\n",
       "      <td>AUTO-PASAJEROS</td>\n",
       "      <td>PASAJEROS</td>\n",
       "      <td>2016</td>\n",
       "      <td>1</td>\n",
       "      <td>2</td>\n",
       "    </tr>\n",
       "    <tr>\n",
       "      <th>2</th>\n",
       "      <td>2016-0003</td>\n",
       "      <td>2016-01-03</td>\n",
       "      <td>2016</td>\n",
       "      <td>1</td>\n",
       "      <td>3</td>\n",
       "      <td>CONDUCTOR</td>\n",
       "      <td>MOTO</td>\n",
       "      <td>MASCULINO</td>\n",
       "      <td>30</td>\n",
       "      <td>2016-01-03</td>\n",
       "      <td>...</td>\n",
       "      <td>AVENIDA</td>\n",
       "      <td>ENTRE RIOS AV. 2034</td>\n",
       "      <td>1</td>\n",
       "      <td>-58.39040293</td>\n",
       "      <td>-34.63189362</td>\n",
       "      <td>MOTO-AUTO</td>\n",
       "      <td>AUTO</td>\n",
       "      <td>2016</td>\n",
       "      <td>1</td>\n",
       "      <td>3</td>\n",
       "    </tr>\n",
       "    <tr>\n",
       "      <th>3</th>\n",
       "      <td>2016-0004</td>\n",
       "      <td>2016-01-10</td>\n",
       "      <td>2016</td>\n",
       "      <td>1</td>\n",
       "      <td>10</td>\n",
       "      <td>CONDUCTOR</td>\n",
       "      <td>MOTO</td>\n",
       "      <td>MASCULINO</td>\n",
       "      <td>18</td>\n",
       "      <td>2016-01-10</td>\n",
       "      <td>...</td>\n",
       "      <td>AVENIDA</td>\n",
       "      <td>LARRAZABAL AV. y VILLEGAS, CONRADO, GRAL.</td>\n",
       "      <td>8</td>\n",
       "      <td>-58.46503904</td>\n",
       "      <td>-34.68092974</td>\n",
       "      <td>MOTO-SD</td>\n",
       "      <td>AUTO</td>\n",
       "      <td>2016</td>\n",
       "      <td>1</td>\n",
       "      <td>10</td>\n",
       "    </tr>\n",
       "    <tr>\n",
       "      <th>4</th>\n",
       "      <td>2016-0005</td>\n",
       "      <td>2016-01-21</td>\n",
       "      <td>2016</td>\n",
       "      <td>1</td>\n",
       "      <td>21</td>\n",
       "      <td>CONDUCTOR</td>\n",
       "      <td>MOTO</td>\n",
       "      <td>MASCULINO</td>\n",
       "      <td>29</td>\n",
       "      <td>2016-02-01</td>\n",
       "      <td>...</td>\n",
       "      <td>AVENIDA</td>\n",
       "      <td>SAN JUAN AV. y SAENZ PEÃ‘A, LUIS, PRES.</td>\n",
       "      <td>1</td>\n",
       "      <td>-58.38718297</td>\n",
       "      <td>-34.62246630</td>\n",
       "      <td>MOTO-PASAJEROS</td>\n",
       "      <td>PASAJEROS</td>\n",
       "      <td>2016</td>\n",
       "      <td>2</td>\n",
       "      <td>1</td>\n",
       "    </tr>\n",
       "  </tbody>\n",
       "</table>\n",
       "<p>5 rows × 23 columns</p>\n",
       "</div>"
      ],
      "text/plain": [
       "          ID      Fecha   Año  Mes  Dia        Rol Victima       Sexo  Edad  \\\n",
       "0  2016-0001 2016-01-01  2016    1    1  CONDUCTOR    MOTO  MASCULINO    19   \n",
       "1  2016-0002 2016-01-02  2016    1    2  CONDUCTOR    AUTO  MASCULINO    70   \n",
       "2  2016-0003 2016-01-03  2016    1    3  CONDUCTOR    MOTO  MASCULINO    30   \n",
       "3  2016-0004 2016-01-10  2016    1   10  CONDUCTOR    MOTO  MASCULINO    18   \n",
       "4  2016-0005 2016-01-21  2016    1   21  CONDUCTOR    MOTO  MASCULINO    29   \n",
       "\n",
       "  Fecha_Fallecimiento  ...  Tipo_de_Calle  \\\n",
       "0          2016-01-01  ...        AVENIDA   \n",
       "1          2016-01-02  ...       GRAL PAZ   \n",
       "2          2016-01-03  ...        AVENIDA   \n",
       "3          2016-01-10  ...        AVENIDA   \n",
       "4          2016-02-01  ...        AVENIDA   \n",
       "\n",
       "                               Dirección_Normalizada Comuna      Longitud  \\\n",
       "0  PIEDRA BUENA AV. y FERNANDEZ DE LA CRUZ, F., G...      8  -58.47533969   \n",
       "1               PAZ, GRAL. AV. y DE LOS CORRALES AV.      9  -58.50877521   \n",
       "2                                ENTRE RIOS AV. 2034      1  -58.39040293   \n",
       "3          LARRAZABAL AV. y VILLEGAS, CONRADO, GRAL.      8  -58.46503904   \n",
       "4            SAN JUAN AV. y SAENZ PEÃ‘A, LUIS, PRES.      1  -58.38718297   \n",
       "\n",
       "        Latitud   Participantes    Acusado Año_Fallecimiento  \\\n",
       "0  -34.68757022       MOTO-AUTO       AUTO              2016   \n",
       "1  -34.66977709  AUTO-PASAJEROS  PASAJEROS              2016   \n",
       "2  -34.63189362       MOTO-AUTO       AUTO              2016   \n",
       "3  -34.68092974         MOTO-SD       AUTO              2016   \n",
       "4  -34.62246630  MOTO-PASAJEROS  PASAJEROS              2016   \n",
       "\n",
       "  Mes_Fallecimiento Dia_Fallecimiento  \n",
       "0                 1                 1  \n",
       "1                 1                 2  \n",
       "2                 1                 3  \n",
       "3                 1                10  \n",
       "4                 2                 1  \n",
       "\n",
       "[5 rows x 23 columns]"
      ]
     },
     "execution_count": 67,
     "metadata": {},
     "output_type": "execute_result"
    }
   ],
   "source": [
    "hechos_victimas.head(5)"
   ]
  },
  {
   "cell_type": "markdown",
   "metadata": {},
   "source": [
    "Ahora haremos un mapeo de las variables categóricas con el fin de poder calcular correlaciones en el EDA"
   ]
  },
  {
   "cell_type": "markdown",
   "metadata": {},
   "source": [
    "Rol"
   ]
  },
  {
   "cell_type": "code",
   "execution_count": 68,
   "metadata": {},
   "outputs": [
    {
     "name": "stdout",
     "output_type": "stream",
     "text": [
      "Rol\n",
      "CONDUCTOR               341\n",
      "PEATON                  267\n",
      "PASAJERO_ACOMPAÑANTE     80\n",
      "CICLISTA                 29\n",
      "Name: count, dtype: int64\n"
     ]
    }
   ],
   "source": [
    "a = hechos_victimas['Rol'].value_counts()\n",
    "print(a)\n",
    "\n",
    "mapeo = {'CONDUCTOR': 1,\n",
    "         'PEATON': 2,\n",
    "         'PASAJERO_ACOMPAÑANTE': 3 ,\n",
    "         'CICLISTA': 4 }\n",
    "\n",
    "hechos_victimas['Rol_Map'] = hechos_victimas['Rol'].map(mapeo)"
   ]
  },
  {
   "cell_type": "markdown",
   "metadata": {},
   "source": [
    "Victima"
   ]
  },
  {
   "cell_type": "code",
   "execution_count": 69,
   "metadata": {},
   "outputs": [
    {
     "name": "stdout",
     "output_type": "stream",
     "text": [
      "Victima\n",
      "MOTO         312\n",
      "PEATON       267\n",
      "AUTO          94\n",
      "BICICLETA     29\n",
      "CARGAS         7\n",
      "PASAJEROS      5\n",
      "MOVIL          3\n",
      "Name: count, dtype: int64\n"
     ]
    }
   ],
   "source": [
    "a = hechos_victimas['Victima'].value_counts()\n",
    "print(a)\n",
    "\n",
    "mapeo = {'MOTO': 1,\n",
    "         'PEATON': 2,\n",
    "         'AUTO': 3 ,\n",
    "         'BICICLETA': 4,\n",
    "          'CARGAS': 5,\n",
    "           'PASAJEROS': 6,\n",
    "             'MOVIL': 7}\n",
    "\n",
    "hechos_victimas['Victima_Map'] = hechos_victimas['Victima'].map(mapeo)"
   ]
  },
  {
   "cell_type": "markdown",
   "metadata": {},
   "source": [
    "Sexo"
   ]
  },
  {
   "cell_type": "code",
   "execution_count": 70,
   "metadata": {},
   "outputs": [
    {
     "name": "stdout",
     "output_type": "stream",
     "text": [
      "Sexo\n",
      "MASCULINO    551\n",
      "FEMENINO     166\n",
      "Name: count, dtype: int64\n"
     ]
    }
   ],
   "source": [
    "a = hechos_victimas['Sexo'].value_counts()\n",
    "print(a)\n",
    "\n",
    "mapeo = {'MASCULINO': 1,\n",
    "         'FEMENINO': 2}\n",
    "\n",
    "hechos_victimas['Sexo_Map'] = hechos_victimas['Sexo'].map(mapeo)"
   ]
  },
  {
   "cell_type": "markdown",
   "metadata": {},
   "source": [
    "Participantes"
   ]
  },
  {
   "cell_type": "code",
   "execution_count": 71,
   "metadata": {},
   "outputs": [
    {
     "name": "stdout",
     "output_type": "stream",
     "text": [
      "Acusado\n",
      "AUTO           233\n",
      "PASAJEROS      178\n",
      "CARGAS         150\n",
      "OBJETO FIJO     67\n",
      "MOTO            58\n",
      "MULTIPLE        17\n",
      "BICICLETA        7\n",
      "OTRO             6\n",
      "TREN             1\n",
      "Name: count, dtype: int64\n"
     ]
    }
   ],
   "source": [
    "a = hechos_victimas['Acusado'].value_counts()\n",
    "print(a)\n",
    "\n",
    "mapeo = {'MOTO': 1,\n",
    "         'PEATON': 2,\n",
    "         'AUTO': 3 ,\n",
    "         'BICICLETA': 4,\n",
    "          'CARGAS': 5,\n",
    "           'PASAJEROS': 6,\n",
    "             'MOVIL': 7,\n",
    "             'OBJETO FIJO': 8,\n",
    "             'MULTIPLE': 9,\n",
    "             'OTRO': 10,\n",
    "             'TREN': 11}\n",
    "\n",
    "hechos_victimas['Acusado_Map'] = hechos_victimas['Acusado'].map(mapeo)"
   ]
  },
  {
   "cell_type": "code",
   "execution_count": 72,
   "metadata": {},
   "outputs": [
    {
     "data": {
      "text/html": [
       "<div>\n",
       "<style scoped>\n",
       "    .dataframe tbody tr th:only-of-type {\n",
       "        vertical-align: middle;\n",
       "    }\n",
       "\n",
       "    .dataframe tbody tr th {\n",
       "        vertical-align: top;\n",
       "    }\n",
       "\n",
       "    .dataframe thead th {\n",
       "        text-align: right;\n",
       "    }\n",
       "</style>\n",
       "<table border=\"1\" class=\"dataframe\">\n",
       "  <thead>\n",
       "    <tr style=\"text-align: right;\">\n",
       "      <th></th>\n",
       "      <th>ID</th>\n",
       "      <th>Fecha</th>\n",
       "      <th>Año</th>\n",
       "      <th>Mes</th>\n",
       "      <th>Dia</th>\n",
       "      <th>Rol</th>\n",
       "      <th>Victima</th>\n",
       "      <th>Sexo</th>\n",
       "      <th>Edad</th>\n",
       "      <th>Fecha_Fallecimiento</th>\n",
       "      <th>...</th>\n",
       "      <th>Latitud</th>\n",
       "      <th>Participantes</th>\n",
       "      <th>Acusado</th>\n",
       "      <th>Año_Fallecimiento</th>\n",
       "      <th>Mes_Fallecimiento</th>\n",
       "      <th>Dia_Fallecimiento</th>\n",
       "      <th>Rol_Map</th>\n",
       "      <th>Victima_Map</th>\n",
       "      <th>Sexo_Map</th>\n",
       "      <th>Acusado_Map</th>\n",
       "    </tr>\n",
       "  </thead>\n",
       "  <tbody>\n",
       "    <tr>\n",
       "      <th>0</th>\n",
       "      <td>2016-0001</td>\n",
       "      <td>2016-01-01</td>\n",
       "      <td>2016</td>\n",
       "      <td>1</td>\n",
       "      <td>1</td>\n",
       "      <td>CONDUCTOR</td>\n",
       "      <td>MOTO</td>\n",
       "      <td>MASCULINO</td>\n",
       "      <td>19</td>\n",
       "      <td>2016-01-01</td>\n",
       "      <td>...</td>\n",
       "      <td>-34.68757022</td>\n",
       "      <td>MOTO-AUTO</td>\n",
       "      <td>AUTO</td>\n",
       "      <td>2016</td>\n",
       "      <td>1</td>\n",
       "      <td>1</td>\n",
       "      <td>1</td>\n",
       "      <td>1</td>\n",
       "      <td>1</td>\n",
       "      <td>3</td>\n",
       "    </tr>\n",
       "    <tr>\n",
       "      <th>1</th>\n",
       "      <td>2016-0002</td>\n",
       "      <td>2016-01-02</td>\n",
       "      <td>2016</td>\n",
       "      <td>1</td>\n",
       "      <td>2</td>\n",
       "      <td>CONDUCTOR</td>\n",
       "      <td>AUTO</td>\n",
       "      <td>MASCULINO</td>\n",
       "      <td>70</td>\n",
       "      <td>2016-01-02</td>\n",
       "      <td>...</td>\n",
       "      <td>-34.66977709</td>\n",
       "      <td>AUTO-PASAJEROS</td>\n",
       "      <td>PASAJEROS</td>\n",
       "      <td>2016</td>\n",
       "      <td>1</td>\n",
       "      <td>2</td>\n",
       "      <td>1</td>\n",
       "      <td>3</td>\n",
       "      <td>1</td>\n",
       "      <td>6</td>\n",
       "    </tr>\n",
       "    <tr>\n",
       "      <th>2</th>\n",
       "      <td>2016-0003</td>\n",
       "      <td>2016-01-03</td>\n",
       "      <td>2016</td>\n",
       "      <td>1</td>\n",
       "      <td>3</td>\n",
       "      <td>CONDUCTOR</td>\n",
       "      <td>MOTO</td>\n",
       "      <td>MASCULINO</td>\n",
       "      <td>30</td>\n",
       "      <td>2016-01-03</td>\n",
       "      <td>...</td>\n",
       "      <td>-34.63189362</td>\n",
       "      <td>MOTO-AUTO</td>\n",
       "      <td>AUTO</td>\n",
       "      <td>2016</td>\n",
       "      <td>1</td>\n",
       "      <td>3</td>\n",
       "      <td>1</td>\n",
       "      <td>1</td>\n",
       "      <td>1</td>\n",
       "      <td>3</td>\n",
       "    </tr>\n",
       "    <tr>\n",
       "      <th>3</th>\n",
       "      <td>2016-0004</td>\n",
       "      <td>2016-01-10</td>\n",
       "      <td>2016</td>\n",
       "      <td>1</td>\n",
       "      <td>10</td>\n",
       "      <td>CONDUCTOR</td>\n",
       "      <td>MOTO</td>\n",
       "      <td>MASCULINO</td>\n",
       "      <td>18</td>\n",
       "      <td>2016-01-10</td>\n",
       "      <td>...</td>\n",
       "      <td>-34.68092974</td>\n",
       "      <td>MOTO-SD</td>\n",
       "      <td>AUTO</td>\n",
       "      <td>2016</td>\n",
       "      <td>1</td>\n",
       "      <td>10</td>\n",
       "      <td>1</td>\n",
       "      <td>1</td>\n",
       "      <td>1</td>\n",
       "      <td>3</td>\n",
       "    </tr>\n",
       "    <tr>\n",
       "      <th>4</th>\n",
       "      <td>2016-0005</td>\n",
       "      <td>2016-01-21</td>\n",
       "      <td>2016</td>\n",
       "      <td>1</td>\n",
       "      <td>21</td>\n",
       "      <td>CONDUCTOR</td>\n",
       "      <td>MOTO</td>\n",
       "      <td>MASCULINO</td>\n",
       "      <td>29</td>\n",
       "      <td>2016-02-01</td>\n",
       "      <td>...</td>\n",
       "      <td>-34.62246630</td>\n",
       "      <td>MOTO-PASAJEROS</td>\n",
       "      <td>PASAJEROS</td>\n",
       "      <td>2016</td>\n",
       "      <td>2</td>\n",
       "      <td>1</td>\n",
       "      <td>1</td>\n",
       "      <td>1</td>\n",
       "      <td>1</td>\n",
       "      <td>6</td>\n",
       "    </tr>\n",
       "  </tbody>\n",
       "</table>\n",
       "<p>5 rows × 27 columns</p>\n",
       "</div>"
      ],
      "text/plain": [
       "          ID      Fecha   Año  Mes  Dia        Rol Victima       Sexo  Edad  \\\n",
       "0  2016-0001 2016-01-01  2016    1    1  CONDUCTOR    MOTO  MASCULINO    19   \n",
       "1  2016-0002 2016-01-02  2016    1    2  CONDUCTOR    AUTO  MASCULINO    70   \n",
       "2  2016-0003 2016-01-03  2016    1    3  CONDUCTOR    MOTO  MASCULINO    30   \n",
       "3  2016-0004 2016-01-10  2016    1   10  CONDUCTOR    MOTO  MASCULINO    18   \n",
       "4  2016-0005 2016-01-21  2016    1   21  CONDUCTOR    MOTO  MASCULINO    29   \n",
       "\n",
       "  Fecha_Fallecimiento  ...       Latitud   Participantes    Acusado  \\\n",
       "0          2016-01-01  ...  -34.68757022       MOTO-AUTO       AUTO   \n",
       "1          2016-01-02  ...  -34.66977709  AUTO-PASAJEROS  PASAJEROS   \n",
       "2          2016-01-03  ...  -34.63189362       MOTO-AUTO       AUTO   \n",
       "3          2016-01-10  ...  -34.68092974         MOTO-SD       AUTO   \n",
       "4          2016-02-01  ...  -34.62246630  MOTO-PASAJEROS  PASAJEROS   \n",
       "\n",
       "  Año_Fallecimiento Mes_Fallecimiento  Dia_Fallecimiento Rol_Map Victima_Map  \\\n",
       "0              2016                 1                  1       1           1   \n",
       "1              2016                 1                  2       1           3   \n",
       "2              2016                 1                  3       1           1   \n",
       "3              2016                 1                 10       1           1   \n",
       "4              2016                 2                  1       1           1   \n",
       "\n",
       "  Sexo_Map Acusado_Map  \n",
       "0        1           3  \n",
       "1        1           6  \n",
       "2        1           3  \n",
       "3        1           3  \n",
       "4        1           6  \n",
       "\n",
       "[5 rows x 27 columns]"
      ]
     },
     "execution_count": 72,
     "metadata": {},
     "output_type": "execute_result"
    }
   ],
   "source": [
    "a = hechos_victimas\n",
    "a.head(5)"
   ]
  },
  {
   "cell_type": "markdown",
   "metadata": {},
   "source": [
    "El Dataframe listo para el EDA se exporta a un archivo CSV"
   ]
  },
  {
   "cell_type": "code",
   "execution_count": 73,
   "metadata": {},
   "outputs": [],
   "source": [
    "hechos_victimas.to_csv('hechosyvictimas.csv', index=False)"
   ]
  }
 ],
 "metadata": {
  "kernelspec": {
   "display_name": "Python 3",
   "language": "python",
   "name": "python3"
  },
  "language_info": {
   "codemirror_mode": {
    "name": "ipython",
    "version": 3
   },
   "file_extension": ".py",
   "mimetype": "text/x-python",
   "name": "python",
   "nbconvert_exporter": "python",
   "pygments_lexer": "ipython3",
   "version": "3.11.4"
  },
  "orig_nbformat": 4
 },
 "nbformat": 4,
 "nbformat_minor": 2
}
